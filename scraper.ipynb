{
 "cells": [
  {
   "cell_type": "code",
   "execution_count": 5,
   "metadata": {},
   "outputs": [
    {
     "name": "stdout",
     "output_type": "stream",
     "text": [
      "There are 34 samples taken from a bone element/bone marrow\n"
     ]
    }
   ],
   "source": [
    "import pandas as pd\n",
    "samples = pd.read_csv('/Users/Surya/Downloads/screen-tsv-download.tsv', header=None, delimiter='\\t')\n",
    "samples.columns = ['cell_type','tissue']\n",
    "leuk_samples = samples[samples['tissue'].str.contains('bone', case=False, na=False)]\n",
    "print(\"There are\", len(leuk_samples), \"samples taken from a bone element/bone marrow\")\n"
   ]
  },
  {
   "cell_type": "markdown",
   "metadata": {},
   "source": [
    "### Look\n",
    "Look at big wig for open chromatin, can load it into IGV\n",
    "\n",
    "locate potenital binding sites upstream of the promoter.\n",
    "\n",
    "Identify potential binding sites, where it COULD happen; looking for consensus cis-regulatory elements identified upstream\n",
    "\n",
    "If it's not present in AML, then maybe which cancers can we see it happening."
   ]
  },
  {
   "cell_type": "markdown",
   "metadata": {},
   "source": [
    "# Right Now\n",
    "Let's try and get a scraping of protein atlas, query all of those cell lines, to make sure we got 'em all. Try with hyphen, no space-all text, replace hyphen with space, make sure that exclude chronic and not case sensitive\n",
    "\n",
    "Let's try and get a visual understanding of binding sites and how we can approach implementing bigWig download from API"
   ]
  },
  {
   "cell_type": "markdown",
   "metadata": {},
   "source": [
    "##  Creating a Comprehensive Profile of Available Leukemia Cell Lines in ENCODE\n",
    "\n",
    "Acute Lymphoblastic Leukemia Cell Lines: \n",
    "\n",
    "https://www.cell.com/trends/immunology/abstract/S1471-4906(20)30307-0 \n",
    "\n",
    "https://www.nature.com/articles/s41467-022-29224-5\n",
    "\n",
    "Acute Myleoid Leukemia Cell lines: \n",
    "\n",
    "https://www.proteinatlas.org/humanproteome/cell+line/leukemia \n",
    "\n",
    "https://pmc.ncbi.nlm.nih.gov/articles/PMC10049680/table/ijms-24-05377-t001/ \n",
    "\n"
   ]
  },
  {
   "cell_type": "code",
   "execution_count": 6,
   "metadata": {},
   "outputs": [],
   "source": [
    "samples_ALL = ['DND-41','Jurkat','Loucy']\n",
    "samples_AML = ['DND-41','HL-60', 'NB4', 'CMK']\n"
   ]
  },
  {
   "cell_type": "markdown",
   "metadata": {},
   "source": [
    "## Scraping Protein Atlas for Cell Lines to Query for all Leukemia Samples for Verification of Above\n",
    "https://www.proteinatlas.org/humanproteome/cell+line/leukemia"
   ]
  },
  {
   "cell_type": "code",
   "execution_count": 7,
   "metadata": {},
   "outputs": [
    {
     "name": "stdout",
     "output_type": "stream",
     "text": [
      "Extracted Script:\n",
      "\n",
      "        var plot = $('#celline_prio_leukemia_LAML').scatterPlot([{\"color\":\"lightgrey\",\"data\":[{\"class\":\"cl938\",\"name\":\"Kasumi-6\",\"x\":1.96068175909325,\"y\":0.834886071020256,\"tooltip\":\"Kasumi-6<br>NES: 1.96<br>Corr: 0.83\",\"url\":\"\"},{\"class\":\"cl1095\",\"name\":\"MOLM-6\",\"x\":1.90032457194471,\"y\":0.835674513933875,\"tooltip\":\"MOLM-6<br>NES: 1.90<br>Corr: 0.84\",\"url\":\"\"},{\"class\":\"cl974\",\"name\":\"KO52\",\"x\":1.98706550466945,\"y\":0.833892719414413,\"tooltip\":\"KO52<br>NES: 1.99<br>Corr: 0.83\",\"url\":\"\"},{\"class\":\"cl1110\",\"name\":\"MUTZ-3\",\"x\":1.88884309348927,\"y\":0.834852139753001,\"tooltip\":\"MUTZ-3<br>NES: 1.89<br>Corr: 0.83\",\"url\":\"\"},{\"class\":\"cl694\",\"name\":\"GDM-1\",\"x\":1.9503423496079,\"y\":0.823659272269025,\"tooltip\":\"GDM-1<br>NES: 1.95<br>Corr: 0.82\",\"url\":\"\"},{\"class\":\"cl936\",\"name\":\"Kasumi-1\",\"x\":1.86985160948779,\"y\":0.815727956855209,\"tooltip\":\"Kasumi-1<br>NES: 1.87<br>Corr: 0.82\",\"url\":\"\"},{\"class\":\"cl1103\",\"name\":\"Mono-Mac-1\",\"x\":1.8749012322619,\"y\":0.812513211118372,\"tooltip\":\"Mono-Mac-1<br>NES: 1.87<br>Corr: 0.81\",\"url\":\"\"},{\"class\":\"cl1284\",\"name\":\"OCI-AML-5\",\"x\":1.86194923694703,\"y\":0.81038967255203,\"tooltip\":\"OCI-AML-5<br>NES: 1.86<br>Corr: 0.81\",\"url\":\"\"},{\"class\":\"cl947\",\"name\":\"KG-1\",\"x\":1.82665420554679,\"y\":0.834194017038274,\"tooltip\":\"KG-1<br>NES: 1.83<br>Corr: 0.83\",\"url\":\"\"},{\"class\":\"cl1282\",\"name\":\"OCI-AML-2\",\"x\":1.83587135982876,\"y\":0.808092187829706,\"tooltip\":\"OCI-AML-2<br>NES: 1.84<br>Corr: 0.81\",\"url\":\"\"},{\"class\":\"cl1456\",\"name\":\"SKM-1\",\"x\":1.85081124896074,\"y\":0.801996187119094,\"tooltip\":\"SKM-1<br>NES: 1.85<br>Corr: 0.80\",\"url\":\"\"},{\"class\":\"cl1424\",\"name\":\"SIG-M5\",\"x\":1.84420344172927,\"y\":0.802809336005459,\"tooltip\":\"SIG-M5<br>NES: 1.84<br>Corr: 0.80\",\"url\":\"\"},{\"class\":\"cl1272\",\"name\":\"NOMO-1\",\"x\":1.86100221140356,\"y\":0.799552841335105,\"tooltip\":\"NOMO-1<br>NES: 1.86<br>Corr: 0.80\",\"url\":\"\"},{\"class\":\"cl1322\",\"name\":\"P31\\/FUJ\",\"x\":1.82980032366025,\"y\":0.802897693145909,\"tooltip\":\"P31\\/FUJ<br>NES: 1.83<br>Corr: 0.80\",\"url\":\"\"},{\"class\":\"cl506\",\"name\":\"AML-193\",\"x\":1.79589395650901,\"y\":0.805771584519176,\"tooltip\":\"AML-193<br>NES: 1.80<br>Corr: 0.81\",\"url\":\"\"},{\"class\":\"cl1104\",\"name\":\"Mono-Mac-6\",\"x\":1.77335110336526,\"y\":0.807542906550339,\"tooltip\":\"Mono-Mac-6<br>NES: 1.77<br>Corr: 0.81\",\"url\":\"\"},{\"class\":\"cl1640\",\"name\":\"UKE-1\",\"x\":1.74435397699838,\"y\":0.808460887756932,\"tooltip\":\"UKE-1<br>NES: 1.74<br>Corr: 0.81\",\"url\":\"\"},{\"class\":\"cl670\",\"name\":\"EoL-1\",\"x\":1.74277826730629,\"y\":0.807718734077259,\"tooltip\":\"EoL-1<br>NES: 1.74<br>Corr: 0.81\",\"url\":\"\"},{\"class\":\"cl591\",\"name\":\"CMK\",\"x\":1.80295035562337,\"y\":0.798590870236049,\"tooltip\":\"CMK<br>NES: 1.80<br>Corr: 0.80\",\"url\":\"\"},{\"class\":\"cl1028\",\"name\":\"Loucy\",\"x\":1.84358306954572,\"y\":0.797567197821588,\"tooltip\":\"Loucy<br>NES: 1.84<br>Corr: 0.80\",\"url\":\"\"},{\"class\":\"cl1631\",\"name\":\"U-937\",\"x\":1.74251143075253,\"y\":0.80669812281109,\"tooltip\":\"U-937<br>NES: 1.74<br>Corr: 0.81\",\"url\":\"\"},{\"class\":\"cl1063\",\"name\":\"ME-1 [Human leukemia]\",\"x\":1.69043972246576,\"y\":0.824407428774507,\"tooltip\":\"ME-1 [Human leukemia]<br>NES: 1.69<br>Corr: 0.82\",\"url\":\"\"},{\"class\":\"cl1598\",\"name\":\"THP-1\",\"x\":1.77011103026914,\"y\":0.800000090141073,\"tooltip\":\"THP-1<br>NES: 1.77<br>Corr: 0.80\",\"url\":\"\"},{\"class\":\"cl1098\",\"name\":\"MOLT-13\",\"x\":1.84504329803894,\"y\":0.792890877451836,\"tooltip\":\"MOLT-13<br>NES: 1.85<br>Corr: 0.79\",\"url\":\"\"},{\"class\":\"cl1114\",\"name\":\"NALM-1\",\"x\":1.77999691341764,\"y\":0.797743816273384,\"tooltip\":\"NALM-1<br>NES: 1.78<br>Corr: 0.80\",\"url\":\"\"},{\"class\":\"cl805\",\"name\":\"HNT-34\",\"x\":1.70823197048433,\"y\":0.806735066104345,\"tooltip\":\"HNT-34<br>NES: 1.71<br>Corr: 0.81\",\"url\":\"\"},{\"class\":\"cl1119\",\"name\":\"NB4\",\"x\":1.70154443542121,\"y\":0.8078714934741,\"tooltip\":\"NB4<br>NES: 1.70<br>Corr: 0.81\",\"url\":\"\"},{\"class\":\"cl796\",\"name\":\"HL-60\",\"x\":1.67375609678871,\"y\":0.818362189469055,\"tooltip\":\"HL-60<br>NES: 1.67<br>Corr: 0.82\",\"url\":\"\"},{\"class\":\"cl1099\",\"name\":\"MOLT-16\",\"x\":1.82607366037845,\"y\":0.792253286482579,\"tooltip\":\"MOLT-16<br>NES: 1.83<br>Corr: 0.79\",\"url\":\"\"},{\"class\":\"cl1354\",\"name\":\"PLB-985\",\"x\":1.71418166228561,\"y\":0.797622789160494,\"tooltip\":\"PLB-985<br>NES: 1.71<br>Corr: 0.80\",\"url\":\"\"},{\"class\":\"cl1077\",\"name\":\"MHH-CALL-2\",\"x\":1.76599696965841,\"y\":0.79235448960099,\"tooltip\":\"MHH-CALL-2<br>NES: 1.77<br>Corr: 0.79\",\"url\":\"\"},{\"class\":\"cl668\",\"name\":\"EM-2\",\"x\":1.67231003282719,\"y\":0.805421993767317,\"tooltip\":\"EM-2<br>NES: 1.67<br>Corr: 0.81\",\"url\":\"\"},{\"class\":\"cl1093\",\"name\":\"MOLM-13\",\"x\":1.68478877617486,\"y\":0.800742648111391,\"tooltip\":\"MOLM-13<br>NES: 1.68<br>Corr: 0.80\",\"url\":\"\"},{\"class\":\"cl1413\",\"name\":\"SET-2\",\"x\":1.7576119256822,\"y\":0.792017318332393,\"tooltip\":\"SET-2<br>NES: 1.76<br>Corr: 0.79\",\"url\":\"\"},{\"class\":\"cl1079\",\"name\":\"MHH-CALL-4\",\"x\":1.71307496204004,\"y\":0.795124924647044,\"tooltip\":\"MHH-CALL-4<br>NES: 1.71<br>Corr: 0.80\",\"url\":\"\"},{\"class\":\"cl1112\",\"name\":\"MV4-11\",\"x\":1.69152491634048,\"y\":0.79848137894494,\"tooltip\":\"MV4-11<br>NES: 1.69<br>Corr: 0.80\",\"url\":\"\"},{\"class\":\"cl1412\",\"name\":\"SEM\",\"x\":1.75565067925777,\"y\":0.790125665776004,\"tooltip\":\"SEM<br>NES: 1.76<br>Corr: 0.79\",\"url\":\"\"},{\"class\":\"cl1352\",\"name\":\"PL-21\",\"x\":1.66059202979863,\"y\":0.797710472388488,\"tooltip\":\"PL-21<br>NES: 1.66<br>Corr: 0.80\",\"url\":\"\"},{\"class\":\"cl1457\",\"name\":\"SKNO-1\",\"x\":1.60497930286384,\"y\":0.80450412897393,\"tooltip\":\"SKNO-1<br>NES: 1.60<br>Corr: 0.80\",\"url\":\"\"},{\"class\":\"cl786\",\"name\":\"HEL\",\"x\":1.70464101544182,\"y\":0.791444412955061,\"tooltip\":\"HEL<br>NES: 1.70<br>Corr: 0.79\",\"url\":\"\"},{\"class\":\"cl1006\",\"name\":\"LAMA-84\",\"x\":1.67888913895923,\"y\":0.793670928331097,\"tooltip\":\"LAMA-84<br>NES: 1.68<br>Corr: 0.79\",\"url\":\"\"},{\"class\":\"cl1042\",\"name\":\"M-07e\",\"x\":1.67208386643647,\"y\":0.795339535051138,\"tooltip\":\"M-07e<br>NES: 1.67<br>Corr: 0.80\",\"url\":\"\"},{\"class\":\"cl1078\",\"name\":\"MHH-CALL-3\",\"x\":1.72739330285024,\"y\":0.787164641893914,\"tooltip\":\"MHH-CALL-3<br>NES: 1.73<br>Corr: 0.79\",\"url\":\"\"},{\"class\":\"cl941\",\"name\":\"KCL-22\",\"x\":1.71099074340907,\"y\":0.787797830642424,\"tooltip\":\"KCL-22<br>NES: 1.71<br>Corr: 0.79\",\"url\":\"\"},{\"class\":\"cl1596\",\"name\":\"TF-1\",\"x\":1.69699951746676,\"y\":0.783559895753329,\"tooltip\":\"TF-1<br>NES: 1.70<br>Corr: 0.78\",\"url\":\"\"},{\"class\":\"cl937\",\"name\":\"Kasumi-2\",\"x\":1.69963154990636,\"y\":0.782489988259467,\"tooltip\":\"Kasumi-2<br>NES: 1.70<br>Corr: 0.78\",\"url\":\"\"},{\"class\":\"cl987\",\"name\":\"Ku812\",\"x\":1.60442068887827,\"y\":0.795824283921221,\"tooltip\":\"Ku812<br>NES: 1.60<br>Corr: 0.80\",\"url\":\"\"},{\"class\":\"cl943\",\"name\":\"KE-37\",\"x\":1.73176576176101,\"y\":0.773363195500086,\"tooltip\":\"KE-37<br>NES: 1.73<br>Corr: 0.77\",\"url\":\"\"},{\"class\":\"cl592\",\"name\":\"CML-T1\",\"x\":1.790425172887,\"y\":0.766830109347275,\"tooltip\":\"CML-T1<br>NES: 1.79<br>Corr: 0.77\",\"url\":\"\"},{\"class\":\"cl1091\",\"name\":\"ML-2\",\"x\":1.60721378597641,\"y\":0.791128828479872,\"tooltip\":\"ML-2<br>NES: 1.61<br>Corr: 0.79\",\"url\":\"\"},{\"class\":\"cl1094\",\"name\":\"MOLM-16\",\"x\":1.56987341273657,\"y\":0.794958046306636,\"tooltip\":\"MOLM-16<br>NES: 1.57<br>Corr: 0.79\",\"url\":\"\"},{\"class\":\"cl1268\",\"name\":\"NCO2\",\"x\":1.59564074722475,\"y\":0.790804962636632,\"tooltip\":\"NCO2<br>NES: 1.60<br>Corr: 0.79\",\"url\":\"\"},{\"class\":\"cl1544\",\"name\":\"SUP-B15\",\"x\":1.55657228054486,\"y\":0.792426933395824,\"tooltip\":\"SUP-B15<br>NES: 1.56<br>Corr: 0.79\",\"url\":\"\"},{\"class\":\"cl787\",\"name\":\"HEL 92.1.7\",\"x\":1.63194263825182,\"y\":0.778902957525977,\"tooltip\":\"HEL 92.1.7<br>NES: 1.63<br>Corr: 0.78\",\"url\":\"\"},{\"class\":\"cl919\",\"name\":\"JK-1\",\"x\":1.6120761258392,\"y\":0.781660367144816,\"tooltip\":\"JK-1<br>NES: 1.61<br>Corr: 0.78\",\"url\":\"\"},{\"class\":\"cl1321\",\"name\":\"P12-Ichikawa\",\"x\":1.64665971764032,\"y\":0.774736755751441,\"tooltip\":\"P12-Ichikawa<br>NES: 1.65<br>Corr: 0.77\",\"url\":\"\"},{\"class\":\"cl1115\",\"name\":\"NALM-19\",\"x\":1.56486702502206,\"y\":0.791056417222524,\"tooltip\":\"NALM-19<br>NES: 1.56<br>Corr: 0.79\",\"url\":\"\"},{\"class\":\"cl1345\",\"name\":\"PF-382\",\"x\":1.70573270212769,\"y\":0.768066112396788,\"tooltip\":\"PF-382<br>NES: 1.71<br>Corr: 0.77\",\"url\":\"\"},{\"class\":\"cl1392\",\"name\":\"RPMI-8402\",\"x\":1.63469172952159,\"y\":0.773473296730073,\"tooltip\":\"RPMI-8402<br>NES: 1.63<br>Corr: 0.77\",\"url\":\"\"},{\"class\":\"cl1100\",\"name\":\"MOLT-3\",\"x\":1.62346707694446,\"y\":0.773859856770076,\"tooltip\":\"MOLT-3<br>NES: 1.62<br>Corr: 0.77\",\"url\":\"\"},{\"class\":\"cl1283\",\"name\":\"OCI-AML-3\",\"x\":1.54736215160141,\"y\":0.789169458260534,\"tooltip\":\"OCI-AML-3<br>NES: 1.55<br>Corr: 0.79\",\"url\":\"\"},{\"class\":\"cl1111\",\"name\":\"MUTZ-5\",\"x\":1.56193280862448,\"y\":0.785599654189771,\"tooltip\":\"MUTZ-5<br>NES: 1.56<br>Corr: 0.79\",\"url\":\"\"},{\"class\":\"cl799\",\"name\":\"HMC-1\",\"x\":1.62004532145954,\"y\":0.772754276456137,\"tooltip\":\"HMC-1<br>NES: 1.62<br>Corr: 0.77\",\"url\":\"\"},{\"class\":\"cl677\",\"name\":\"F-36P\",\"x\":1.57566604791204,\"y\":0.778333120866269,\"tooltip\":\"F-36P<br>NES: 1.58<br>Corr: 0.78\",\"url\":\"\"},{\"class\":\"cl1577\",\"name\":\"TALL-1 [Human adult T-ALL]\",\"x\":1.5843767828841,\"y\":0.774937058330037,\"tooltip\":\"TALL-1 [Human adult T-ALL]<br>NES: 1.58<br>Corr: 0.77\",\"url\":\"\"},{\"class\":\"cl579\",\"name\":\"CCRF-SB\",\"x\":1.61724410573941,\"y\":0.771162414536637,\"tooltip\":\"CCRF-SB<br>NES: 1.62<br>Corr: 0.77\",\"url\":\"\"},{\"class\":\"cl1365\",\"name\":\"RCH-ACV\",\"x\":1.54436593819531,\"y\":0.775947835460286,\"tooltip\":\"RCH-ACV<br>NES: 1.54<br>Corr: 0.78\",\"url\":\"\"},{\"class\":\"cl1343\",\"name\":\"Peer\",\"x\":1.54265303181673,\"y\":0.777983626959536,\"tooltip\":\"Peer<br>NES: 1.54<br>Corr: 0.78\",\"url\":\"\"},{\"class\":\"cl923\",\"name\":\"JURKAT\",\"x\":1.60753074782623,\"y\":0.765350237795709,\"tooltip\":\"JURKAT<br>NES: 1.61<br>Corr: 0.77\",\"url\":\"\"},{\"class\":\"cl925\",\"name\":\"JURL-MK1\",\"x\":1.57616309702959,\"y\":0.768876555741527,\"tooltip\":\"JURL-MK1<br>NES: 1.58<br>Corr: 0.77\",\"url\":\"\"},{\"class\":\"cl924\",\"name\":\"Jurkat E6.1\",\"x\":1.59465600143031,\"y\":0.767790135228778,\"tooltip\":\"Jurkat E6.1<br>NES: 1.59<br>Corr: 0.77\",\"url\":\"\"},{\"class\":\"cl975\",\"name\":\"KOPN-8\",\"x\":1.44976476278324,\"y\":0.781204842585234,\"tooltip\":\"KOPN-8<br>NES: 1.45<br>Corr: 0.78\",\"url\":\"\"},{\"class\":\"cl927\",\"name\":\"JVM-3\",\"x\":1.62158950652245,\"y\":0.752398796568676,\"tooltip\":\"JVM-3<br>NES: 1.62<br>Corr: 0.75\",\"url\":\"\"},{\"class\":\"cl1116\",\"name\":\"NALM-6\",\"x\":1.52927975147204,\"y\":0.773286496585026,\"tooltip\":\"NALM-6<br>NES: 1.53<br>Corr: 0.77\",\"url\":\"\"},{\"class\":\"cl1370\",\"name\":\"REH\",\"x\":1.42716240700341,\"y\":0.779581700745994,\"tooltip\":\"REH<br>NES: 1.43<br>Corr: 0.78\",\"url\":\"\"},{\"class\":\"cl504\",\"name\":\"ALL-SIL\",\"x\":1.50428509755573,\"y\":0.772900154606331,\"tooltip\":\"ALL-SIL<br>NES: 1.50<br>Corr: 0.77\",\"url\":\"\"},{\"class\":\"cl1065\",\"name\":\"MEC-1\",\"x\":1.53148551224295,\"y\":0.770881081963005,\"tooltip\":\"MEC-1<br>NES: 1.53<br>Corr: 0.77\",\"url\":\"\"},{\"class\":\"cl646\",\"name\":\"DND-41\",\"x\":1.48772528678535,\"y\":0.772606656301171,\"tooltip\":\"DND-41<br>NES: 1.49<br>Corr: 0.77\",\"url\":\"\"},{\"class\":\"cl516\",\"name\":\"BDCM\",\"x\":1.53322915725902,\"y\":0.764652014319468,\"tooltip\":\"BDCM<br>NES: 1.53<br>Corr: 0.76\",\"url\":\"\"},{\"class\":\"cl543\",\"name\":\"BV-173\",\"x\":1.4002702211707,\"y\":0.771904763859702,\"tooltip\":\"BV-173<br>NES: 1.40<br>Corr: 0.77\",\"url\":\"\"},{\"class\":\"cl1289\",\"name\":\"OCI-M1\",\"x\":1.45186267099723,\"y\":0.768136914127995,\"tooltip\":\"OCI-M1<br>NES: 1.45<br>Corr: 0.77\",\"url\":\"\"},{\"class\":\"cl1066\",\"name\":\"MEG-01\",\"x\":1.5251452755003,\"y\":0.765304584367542,\"tooltip\":\"MEG-01<br>NES: 1.53<br>Corr: 0.77\",\"url\":\"\"},{\"class\":\"cl1101\",\"name\":\"MOLT-4\",\"x\":1.33520420264376,\"y\":0.771657479863266,\"tooltip\":\"MOLT-4<br>NES: 1.34<br>Corr: 0.77\",\"url\":\"\"},{\"class\":\"cl1547\",\"name\":\"SUP-T11\",\"x\":1.49765928733336,\"y\":0.76146875523808,\"tooltip\":\"SUP-T11<br>NES: 1.50<br>Corr: 0.76\",\"url\":\"\"},{\"class\":\"cl811\",\"name\":\"HPB-ALL\",\"x\":1.52548113343917,\"y\":0.753641487158064,\"tooltip\":\"HPB-ALL<br>NES: 1.53<br>Corr: 0.75\",\"url\":\"\"},{\"class\":\"cl1546\",\"name\":\"SUP-T1\",\"x\":1.4943248315111,\"y\":0.757568910721923,\"tooltip\":\"SUP-T1<br>NES: 1.49<br>Corr: 0.76\",\"url\":\"\"},{\"class\":\"cl921\",\"name\":\"JM-1\",\"x\":1.36603927057621,\"y\":0.767590351206058,\"tooltip\":\"JM-1<br>NES: 1.37<br>Corr: 0.77\",\"url\":\"\"},{\"class\":\"cl476\",\"name\":\"697\",\"x\":1.42957873742699,\"y\":0.76256639623021,\"tooltip\":\"697<br>NES: 1.43<br>Corr: 0.76\",\"url\":\"\"},{\"class\":\"cl1290\",\"name\":\"OCI-M2\",\"x\":1.4736582599239,\"y\":0.753737812423619,\"tooltip\":\"OCI-M2<br>NES: 1.47<br>Corr: 0.75\",\"url\":\"\"},{\"class\":\"cl1395\",\"name\":\"RS4;11\",\"x\":1.30554111286775,\"y\":0.751813622688713,\"tooltip\":\"RS4;11<br>NES: 1.31<br>Corr: 0.75\",\"url\":\"\"},{\"class\":\"cl928\",\"name\":\"K-562\",\"x\":1.29819249020308,\"y\":0.744573564501659,\"tooltip\":\"K-562<br>NES: 1.30<br>Corr: 0.74\",\"url\":\"\"},{\"class\":\"cl990\",\"name\":\"KYO-1\",\"x\":1.24770875776416,\"y\":0.73358081264559,\"tooltip\":\"KYO-1<br>NES: 1.25<br>Corr: 0.73\",\"url\":\"\"},{\"class\":\"cl705\",\"name\":\"HAP1\",\"x\":0.818601618011167,\"y\":0.696179824413345,\"tooltip\":\"HAP1<br>NES: 0.82<br>Corr: 0.70\",\"url\":\"\"}]}],\n",
      "            {\n",
      "                dimension: {w: 400, h: 300},\n",
      "                padding: {t: 20, r: 50, b: 30, l: 30},\n",
      "                xAxisLabel:'NES',\n",
      "                yAxisLabel:'Spearman\\'s ρ',\n",
      "                yTickFormat: \"\",\n",
      "                xTickFormat: \"0.5\",\n",
      "                objectSize:20\n",
      "\n",
      "            });\n",
      "        var x1 = [];\n",
      "        var y1 = [];\n",
      "        var x2 = [];\n",
      "        var y2 = [];\n",
      "        plot.vis.selectAll('.dot').each(function(d,i) {\n",
      "                x1[i] = plot.x(d.x);\n",
      "                y1[i] = plot.y(d.y);\n",
      "                d3.select(this)\n",
      "\t\t\t\t\t\t\t\t\t\t.append(\"text\")\n",
      "                    .text(d.name)\n",
      "                    .attr(\"x\",5)\n",
      "                    .style(\"fill\",\"black\")\n",
      "                    .attr(\"xlink:href\", d.url)\n",
      "\n",
      "        })\n",
      "        $('.dot').css(\"text-decoration\",\"none\");\n",
      "        $('.dot').css(\"cursor\",\"pointer\");\n",
      "        $('.dot text').hide();\n",
      "        plot.vis.selectAll(\".remove\").remove();\n",
      "\t\t\n"
     ]
    }
   ],
   "source": [
    "from selenium import webdriver\n",
    "from selenium.webdriver.common.by import By\n",
    "from bs4 import BeautifulSoup\n",
    "\n",
    "\n",
    "options = webdriver.ChromeOptions()\n",
    "driver = webdriver.Chrome(options=options)\n",
    "# URL of the Protein Atlas Leukemia page\n",
    "url = \"https://www.proteinatlas.org/humanproteome/cell+line/leukemia\"\n",
    "\n",
    "# Open the webpage\n",
    "driver.get(url)\n",
    "\n",
    "# Wait for the page to load (adjust as needed for specific elements)\n",
    "driver.implicitly_wait(10)\n",
    "\n",
    "# Get the page source after rendering\n",
    "page_source = driver.page_source\n",
    "\n",
    "# Parse the page source with BeautifulSoup\n",
    "soup = BeautifulSoup(page_source, 'html.parser')\n",
    "\n",
    "# Locate and extract the desired script\n",
    "script_tags = soup.find_all('script')\n",
    "for script in script_tags:\n",
    "    if \"var plot = $('#celline_prio_leukemia_LAML')\" in script.text:\n",
    "        full_line = script.text\n",
    "        print(\"Extracted Script:\")\n",
    "        print(full_line)\n",
    "        break\n",
    "\n",
    "# Close the browser\n",
    "driver.quit()\n"
   ]
  },
  {
   "cell_type": "code",
   "execution_count": 3,
   "metadata": {},
   "outputs": [
    {
     "name": "stdout",
     "output_type": "stream",
     "text": [
      "Extracted Line for Analysis:\n",
      "[{\"color\":\"lightgrey\",\"data\":[{\"class\":\"cl938\",\"name\":\"Kasumi-6\",\"x\":1.96068175909325,\"y\":0.834886071020256,\"tooltip\":\"Kasumi-6<br>NES: 1.96<br>Corr: 0.83\",\"url\":\"\"},{\"class\":\"cl1095\",\"name\":\"MOLM-6\",\"x\":1.90032457194471,\"y\":0.835674513933875,\"tooltip\":\"MOLM-6<br>NES: 1.90<br>Corr: 0.84\",\"url\":\"\"},{\"class\":\"cl974\",\"name\":\"KO52\",\"x\":1.98706550466945,\"y\":0.833892719414413,\"tooltip\":\"KO52<br>NES: 1.99<br>Corr: 0.83\",\"url\":\"\"},{\"class\":\"cl1110\",\"name\":\"MUTZ-3\",\"x\":1.88884309348927,\"y\":0.834852139753001,\"tooltip\":\"MUTZ-3<br>NES: 1.89<br>Corr: 0.83\",\"url\":\"\"},{\"class\":\"cl694\",\"name\":\"GDM-1\",\"x\":1.9503423496079,\"y\":0.823659272269025,\"tooltip\":\"GDM-1<br>NES: 1.95<br>Corr: 0.82\",\"url\":\"\"},{\"class\":\"cl936\",\"name\":\"Kasumi-1\",\"x\":1.86985160948779,\"y\":0.815727956855209,\"tooltip\":\"Kasumi-1<br>NES: 1.87<br>Corr: 0.82\",\"url\":\"\"},{\"class\":\"cl1103\",\"name\":\"Mono-Mac-1\",\"x\":1.8749012322619,\"y\":0.812513211118372,\"tooltip\":\"Mono-Mac-1<br>NES: 1.87<br>Corr: 0.81\",\"url\":\"\"},{\"class\":\"cl1284\",\"name\":\"OCI-AML-5\n"
     ]
    }
   ],
   "source": [
    "import requests\n",
    "from bs4 import BeautifulSoup\n",
    "import re\n",
    "\n",
    "# URL of the Protein Atlas Leukemia page\n",
    "url = \"https://www.proteinatlas.org/humanproteome/cell+line/leukemia\"\n",
    "\n",
    "# Send a GET request to the webpage\n",
    "response = requests.get(url)\n",
    "\n",
    "# Check if the request was successful\n",
    "if response.status_code == 200:\n",
    "    # Parse the webpage content\n",
    "    soup = BeautifulSoup(response.text, 'html.parser')\n",
    "\n",
    "    # Locate the script tag containing the desired identifier\n",
    "    script_tags = soup.find_all('script')\n",
    "    for script in script_tags:\n",
    "        # Look for the specific identifier in the script content\n",
    "        if \"var plot = $('#celline_prio_leukemia_LAML')\" in script.text:\n",
    "            # Extract the full line containing the scatterPlot data\n",
    "            full_line = re.search(r\"var plot = \\$\\('#celline_prio_leukemia_LAML'\\)\\.scatterPlot\\((.*?)\\);\", script.text, re.DOTALL)\n",
    "            if full_line:\n",
    "                full_line_text = full_line.group(1)  # Extract the full JSON-like data\n",
    "                print(\"Extracted Line for Analysis:\")\n",
    "                print(full_line_text[:1000])  # Print the first 1000 characters for clarity\n",
    "            else:\n",
    "                print(\"Could not extract the full line containing scatterPlot data.\")\n",
    "            break\n",
    "    else:\n",
    "        print(\"Could not find the specific identifier in the script tags.\")\n",
    "else:\n",
    "    print(f\"Failed to retrieve webpage. Status code: {response.status_code}\")\n"
   ]
  },
  {
   "cell_type": "code",
   "execution_count": 11,
   "metadata": {},
   "outputs": [
    {
     "ename": "ModuleNotFoundError",
     "evalue": "No module named 'slimit'",
     "output_type": "error",
     "traceback": [
      "\u001b[0;31m---------------------------------------------------------------------------\u001b[0m",
      "\u001b[0;31mModuleNotFoundError\u001b[0m                       Traceback (most recent call last)",
      "Cell \u001b[0;32mIn[11], line 4\u001b[0m\n\u001b[1;32m      2\u001b[0m \u001b[38;5;28;01mfrom\u001b[39;00m \u001b[38;5;21;01mbs4\u001b[39;00m \u001b[38;5;28;01mimport\u001b[39;00m BeautifulSoup\n\u001b[1;32m      3\u001b[0m \u001b[38;5;28;01mimport\u001b[39;00m \u001b[38;5;21;01mre\u001b[39;00m\n\u001b[0;32m----> 4\u001b[0m \u001b[38;5;28;01mfrom\u001b[39;00m \u001b[38;5;21;01mslimit\u001b[39;00m\u001b[38;5;21;01m.\u001b[39;00m\u001b[38;5;21;01mparser\u001b[39;00m \u001b[38;5;28;01mimport\u001b[39;00m Parser\n\u001b[1;32m      5\u001b[0m \u001b[38;5;28;01mfrom\u001b[39;00m \u001b[38;5;21;01mslimit\u001b[39;00m\u001b[38;5;21;01m.\u001b[39;00m\u001b[38;5;21;01mvisitors\u001b[39;00m \u001b[38;5;28;01mimport\u001b[39;00m NodeVisitor\n\u001b[1;32m      6\u001b[0m \u001b[38;5;28;01mfrom\u001b[39;00m \u001b[38;5;21;01mslimit\u001b[39;00m \u001b[38;5;28;01mimport\u001b[39;00m ast\n",
      "\u001b[0;31mModuleNotFoundError\u001b[0m: No module named 'slimit'"
     ]
    }
   ],
   "source": [
    "import requests\n",
    "from bs4 import BeautifulSoup\n",
    "import re\n",
    "from slimit.parser import Parser\n",
    "from slimit.visitors import NodeVisitor\n",
    "from slimit import ast\n",
    "\n",
    "# URL of the Protein Atlas Leukemia page\n",
    "url = \"https://www.proteinatlas.org/humanproteome/cell+line/leukemia\"\n",
    "\n",
    "# Send a GET request to the webpage\n",
    "response = requests.get(url)\n",
    "\n",
    "# Check if the request was successful\n",
    "if response.status_code == 200:\n",
    "    # Parse the webpage content\n",
    "    soup = BeautifulSoup(response.text, 'html.parser')\n",
    "\n",
    "    # Locate the script tag containing the desired identifier\n",
    "    script_tags = soup.find_all('script')\n",
    "    for script in script_tags:\n",
    "        # Look for the specific identifier in the script content\n",
    "        if \"var plot = $('#celline_prio_leukemia_LAML')\" in script.text:\n",
    "            # Extract the full line containing the scatterPlot data\n",
    "            full_line = re.search(r\"var plot = \\$\\('#celline_prio_leukemia_LAML'\\)\\.scatterPlot\\((.*?)\\);\", script.text, re.DOTALL)\n",
    "            if full_line:\n",
    "                full_line_text = full_line.group(1)  # Extract the full JavaScript object\n",
    "                \n",
    "                # Parse the JavaScript object using slimit\n",
    "                parser = Parser()\n",
    "                tree = parser.parse(full_line_text)\n",
    "\n",
    "                # Extract all \"name\" values\n",
    "                cell_line_names = []\n",
    "                for node in NodeVisitor().visit(tree):\n",
    "                    if isinstance(node, ast.Object):\n",
    "                        for property_ in node.properties:\n",
    "                            if property_.key.value == \"name\":\n",
    "                                cell_line_names.append(property_.value.value)\n",
    "                \n",
    "                # Remove duplicates and sort alphabetically\n",
    "                unique_cell_lines = sorted(set(cell_line_names))\n",
    "                \n",
    "                # Output the results\n",
    "                print(\"Extracted Cell Line Names:\")\n",
    "                for name in unique_cell_lines:\n",
    "                    print(name)\n",
    "            else:\n",
    "                print(\"Could not extract the full line containing scatterPlot data.\")\n",
    "            break\n",
    "    else:\n",
    "        print(\"Could not find the specific identifier in the script tags.\")\n",
    "else:\n",
    "    print(f\"Failed to retrieve webpage. Status code: {response.status_code}\")\n"
   ]
  },
  {
   "cell_type": "code",
   "execution_count": 10,
   "metadata": {},
   "outputs": [
    {
     "data": {
      "text/plain": [
       "'[{\"color\":\"lightgrey\",\"data\":[{\"class\":\"cl938\",\"name\":\"Kasumi-6\",\"x\":1.96068175909325,\"y\":0.834886071020256,\"tooltip\":\"Kasumi-6<br>NES: 1.96<br>Corr: 0.83\",\"url\":\"\"},{\"class\":\"cl1095\",\"name\":\"MOLM-6\",\"x\":1.90032457194471,\"y\":0.835674513933875,\"tooltip\":\"MOLM-6<br>NES: 1.90<br>Corr: 0.84\",\"url\":\"\"},{\"class\":\"cl974\",\"name\":\"KO52\",\"x\":1.98706550466945,\"y\":0.833892719414413,\"tooltip\":\"KO52<br>NES: 1.99<br>Corr: 0.83\",\"url\":\"\"},{\"class\":\"cl1110\",\"name\":\"MUTZ-3\",\"x\":1.88884309348927,\"y\":0.834852139753001,\"tooltip\":\"MUTZ-3<br>NES: 1.89<br>Corr: 0.83\",\"url\":\"\"},{\"class\":\"cl694\",\"name\":\"GDM-1\",\"x\":1.9503423496079,\"y\":0.823659272269025,\"tooltip\":\"GDM-1<br>NES: 1.95<br>Corr: 0.82\",\"url\":\"\"},{\"class\":\"cl936\",\"name\":\"Kasumi-1\",\"x\":1.86985160948779,\"y\":0.815727956855209,\"tooltip\":\"Kasumi-1<br>NES: 1.87<br>Corr: 0.82\",\"url\":\"\"},{\"class\":\"cl1103\",\"name\":\"Mono-Mac-1\",\"x\":1.8749012322619,\"y\":0.812513211118372,\"tooltip\":\"Mono-Mac-1<br>NES: 1.87<br>Corr: 0.81\",\"url\":\"\"},{\"class\":\"cl1284\",\"name\":\"OCI-AML-5\",\"x\":1.86194923694703,\"y\":0.81038967255203,\"tooltip\":\"OCI-AML-5<br>NES: 1.86<br>Corr: 0.81\",\"url\":\"\"},{\"class\":\"cl947\",\"name\":\"KG-1\",\"x\":1.82665420554679,\"y\":0.834194017038274,\"tooltip\":\"KG-1<br>NES: 1.83<br>Corr: 0.83\",\"url\":\"\"},{\"class\":\"cl1282\",\"name\":\"OCI-AML-2\",\"x\":1.83587135982876,\"y\":0.808092187829706,\"tooltip\":\"OCI-AML-2<br>NES: 1.84<br>Corr: 0.81\",\"url\":\"\"},{\"class\":\"cl1456\",\"name\":\"SKM-1\",\"x\":1.85081124896074,\"y\":0.801996187119094,\"tooltip\":\"SKM-1<br>NES: 1.85<br>Corr: 0.80\",\"url\":\"\"},{\"class\":\"cl1424\",\"name\":\"SIG-M5\",\"x\":1.84420344172927,\"y\":0.802809336005459,\"tooltip\":\"SIG-M5<br>NES: 1.84<br>Corr: 0.80\",\"url\":\"\"},{\"class\":\"cl1272\",\"name\":\"NOMO-1\",\"x\":1.86100221140356,\"y\":0.799552841335105,\"tooltip\":\"NOMO-1<br>NES: 1.86<br>Corr: 0.80\",\"url\":\"\"},{\"class\":\"cl1322\",\"name\":\"P31\\\\/FUJ\",\"x\":1.82980032366025,\"y\":0.802897693145909,\"tooltip\":\"P31\\\\/FUJ<br>NES: 1.83<br>Corr: 0.80\",\"url\":\"\"},{\"class\":\"cl506\",\"name\":\"AML-193\",\"x\":1.79589395650901,\"y\":0.805771584519176,\"tooltip\":\"AML-193<br>NES: 1.80<br>Corr: 0.81\",\"url\":\"\"},{\"class\":\"cl1104\",\"name\":\"Mono-Mac-6\",\"x\":1.77335110336526,\"y\":0.807542906550339,\"tooltip\":\"Mono-Mac-6<br>NES: 1.77<br>Corr: 0.81\",\"url\":\"\"},{\"class\":\"cl1640\",\"name\":\"UKE-1\",\"x\":1.74435397699838,\"y\":0.808460887756932,\"tooltip\":\"UKE-1<br>NES: 1.74<br>Corr: 0.81\",\"url\":\"\"},{\"class\":\"cl670\",\"name\":\"EoL-1\",\"x\":1.74277826730629,\"y\":0.807718734077259,\"tooltip\":\"EoL-1<br>NES: 1.74<br>Corr: 0.81\",\"url\":\"\"},{\"class\":\"cl591\",\"name\":\"CMK\",\"x\":1.80295035562337,\"y\":0.798590870236049,\"tooltip\":\"CMK<br>NES: 1.80<br>Corr: 0.80\",\"url\":\"\"},{\"class\":\"cl1028\",\"name\":\"Loucy\",\"x\":1.84358306954572,\"y\":0.797567197821588,\"tooltip\":\"Loucy<br>NES: 1.84<br>Corr: 0.80\",\"url\":\"\"},{\"class\":\"cl1631\",\"name\":\"U-937\",\"x\":1.74251143075253,\"y\":0.80669812281109,\"tooltip\":\"U-937<br>NES: 1.74<br>Corr: 0.81\",\"url\":\"\"},{\"class\":\"cl1063\",\"name\":\"ME-1 [Human leukemia]\",\"x\":1.69043972246576,\"y\":0.824407428774507,\"tooltip\":\"ME-1 [Human leukemia]<br>NES: 1.69<br>Corr: 0.82\",\"url\":\"\"},{\"class\":\"cl1598\",\"name\":\"THP-1\",\"x\":1.77011103026914,\"y\":0.800000090141073,\"tooltip\":\"THP-1<br>NES: 1.77<br>Corr: 0.80\",\"url\":\"\"},{\"class\":\"cl1098\",\"name\":\"MOLT-13\",\"x\":1.84504329803894,\"y\":0.792890877451836,\"tooltip\":\"MOLT-13<br>NES: 1.85<br>Corr: 0.79\",\"url\":\"\"},{\"class\":\"cl1114\",\"name\":\"NALM-1\",\"x\":1.77999691341764,\"y\":0.797743816273384,\"tooltip\":\"NALM-1<br>NES: 1.78<br>Corr: 0.80\",\"url\":\"\"},{\"class\":\"cl805\",\"name\":\"HNT-34\",\"x\":1.70823197048433,\"y\":0.806735066104345,\"tooltip\":\"HNT-34<br>NES: 1.71<br>Corr: 0.81\",\"url\":\"\"},{\"class\":\"cl1119\",\"name\":\"NB4\",\"x\":1.70154443542121,\"y\":0.8078714934741,\"tooltip\":\"NB4<br>NES: 1.70<br>Corr: 0.81\",\"url\":\"\"},{\"class\":\"cl796\",\"name\":\"HL-60\",\"x\":1.67375609678871,\"y\":0.818362189469055,\"tooltip\":\"HL-60<br>NES: 1.67<br>Corr: 0.82\",\"url\":\"\"},{\"class\":\"cl1099\",\"name\":\"MOLT-16\",\"x\":1.82607366037845,\"y\":0.792253286482579,\"tooltip\":\"MOLT-16<br>NES: 1.83<br>Corr: 0.79\",\"url\":\"\"},{\"class\":\"cl1354\",\"name\":\"PLB-985\",\"x\":1.71418166228561,\"y\":0.797622789160494,\"tooltip\":\"PLB-985<br>NES: 1.71<br>Corr: 0.80\",\"url\":\"\"},{\"class\":\"cl1077\",\"name\":\"MHH-CALL-2\",\"x\":1.76599696965841,\"y\":0.79235448960099,\"tooltip\":\"MHH-CALL-2<br>NES: 1.77<br>Corr: 0.79\",\"url\":\"\"},{\"class\":\"cl668\",\"name\":\"EM-2\",\"x\":1.67231003282719,\"y\":0.805421993767317,\"tooltip\":\"EM-2<br>NES: 1.67<br>Corr: 0.81\",\"url\":\"\"},{\"class\":\"cl1093\",\"name\":\"MOLM-13\",\"x\":1.68478877617486,\"y\":0.800742648111391,\"tooltip\":\"MOLM-13<br>NES: 1.68<br>Corr: 0.80\",\"url\":\"\"},{\"class\":\"cl1413\",\"name\":\"SET-2\",\"x\":1.7576119256822,\"y\":0.792017318332393,\"tooltip\":\"SET-2<br>NES: 1.76<br>Corr: 0.79\",\"url\":\"\"},{\"class\":\"cl1079\",\"name\":\"MHH-CALL-4\",\"x\":1.71307496204004,\"y\":0.795124924647044,\"tooltip\":\"MHH-CALL-4<br>NES: 1.71<br>Corr: 0.80\",\"url\":\"\"},{\"class\":\"cl1112\",\"name\":\"MV4-11\",\"x\":1.69152491634048,\"y\":0.79848137894494,\"tooltip\":\"MV4-11<br>NES: 1.69<br>Corr: 0.80\",\"url\":\"\"},{\"class\":\"cl1412\",\"name\":\"SEM\",\"x\":1.75565067925777,\"y\":0.790125665776004,\"tooltip\":\"SEM<br>NES: 1.76<br>Corr: 0.79\",\"url\":\"\"},{\"class\":\"cl1352\",\"name\":\"PL-21\",\"x\":1.66059202979863,\"y\":0.797710472388488,\"tooltip\":\"PL-21<br>NES: 1.66<br>Corr: 0.80\",\"url\":\"\"},{\"class\":\"cl1457\",\"name\":\"SKNO-1\",\"x\":1.60497930286384,\"y\":0.80450412897393,\"tooltip\":\"SKNO-1<br>NES: 1.60<br>Corr: 0.80\",\"url\":\"\"},{\"class\":\"cl786\",\"name\":\"HEL\",\"x\":1.70464101544182,\"y\":0.791444412955061,\"tooltip\":\"HEL<br>NES: 1.70<br>Corr: 0.79\",\"url\":\"\"},{\"class\":\"cl1006\",\"name\":\"LAMA-84\",\"x\":1.67888913895923,\"y\":0.793670928331097,\"tooltip\":\"LAMA-84<br>NES: 1.68<br>Corr: 0.79\",\"url\":\"\"},{\"class\":\"cl1042\",\"name\":\"M-07e\",\"x\":1.67208386643647,\"y\":0.795339535051138,\"tooltip\":\"M-07e<br>NES: 1.67<br>Corr: 0.80\",\"url\":\"\"},{\"class\":\"cl1078\",\"name\":\"MHH-CALL-3\",\"x\":1.72739330285024,\"y\":0.787164641893914,\"tooltip\":\"MHH-CALL-3<br>NES: 1.73<br>Corr: 0.79\",\"url\":\"\"},{\"class\":\"cl941\",\"name\":\"KCL-22\",\"x\":1.71099074340907,\"y\":0.787797830642424,\"tooltip\":\"KCL-22<br>NES: 1.71<br>Corr: 0.79\",\"url\":\"\"},{\"class\":\"cl1596\",\"name\":\"TF-1\",\"x\":1.69699951746676,\"y\":0.783559895753329,\"tooltip\":\"TF-1<br>NES: 1.70<br>Corr: 0.78\",\"url\":\"\"},{\"class\":\"cl937\",\"name\":\"Kasumi-2\",\"x\":1.69963154990636,\"y\":0.782489988259467,\"tooltip\":\"Kasumi-2<br>NES: 1.70<br>Corr: 0.78\",\"url\":\"\"},{\"class\":\"cl987\",\"name\":\"Ku812\",\"x\":1.60442068887827,\"y\":0.795824283921221,\"tooltip\":\"Ku812<br>NES: 1.60<br>Corr: 0.80\",\"url\":\"\"},{\"class\":\"cl943\",\"name\":\"KE-37\",\"x\":1.73176576176101,\"y\":0.773363195500086,\"tooltip\":\"KE-37<br>NES: 1.73<br>Corr: 0.77\",\"url\":\"\"},{\"class\":\"cl592\",\"name\":\"CML-T1\",\"x\":1.790425172887,\"y\":0.766830109347275,\"tooltip\":\"CML-T1<br>NES: 1.79<br>Corr: 0.77\",\"url\":\"\"},{\"class\":\"cl1091\",\"name\":\"ML-2\",\"x\":1.60721378597641,\"y\":0.791128828479872,\"tooltip\":\"ML-2<br>NES: 1.61<br>Corr: 0.79\",\"url\":\"\"},{\"class\":\"cl1094\",\"name\":\"MOLM-16\",\"x\":1.56987341273657,\"y\":0.794958046306636,\"tooltip\":\"MOLM-16<br>NES: 1.57<br>Corr: 0.79\",\"url\":\"\"},{\"class\":\"cl1268\",\"name\":\"NCO2\",\"x\":1.59564074722475,\"y\":0.790804962636632,\"tooltip\":\"NCO2<br>NES: 1.60<br>Corr: 0.79\",\"url\":\"\"},{\"class\":\"cl1544\",\"name\":\"SUP-B15\",\"x\":1.55657228054486,\"y\":0.792426933395824,\"tooltip\":\"SUP-B15<br>NES: 1.56<br>Corr: 0.79\",\"url\":\"\"},{\"class\":\"cl787\",\"name\":\"HEL 92.1.7\",\"x\":1.63194263825182,\"y\":0.778902957525977,\"tooltip\":\"HEL 92.1.7<br>NES: 1.63<br>Corr: 0.78\",\"url\":\"\"},{\"class\":\"cl919\",\"name\":\"JK-1\",\"x\":1.6120761258392,\"y\":0.781660367144816,\"tooltip\":\"JK-1<br>NES: 1.61<br>Corr: 0.78\",\"url\":\"\"},{\"class\":\"cl1321\",\"name\":\"P12-Ichikawa\",\"x\":1.64665971764032,\"y\":0.774736755751441,\"tooltip\":\"P12-Ichikawa<br>NES: 1.65<br>Corr: 0.77\",\"url\":\"\"},{\"class\":\"cl1115\",\"name\":\"NALM-19\",\"x\":1.56486702502206,\"y\":0.791056417222524,\"tooltip\":\"NALM-19<br>NES: 1.56<br>Corr: 0.79\",\"url\":\"\"},{\"class\":\"cl1345\",\"name\":\"PF-382\",\"x\":1.70573270212769,\"y\":0.768066112396788,\"tooltip\":\"PF-382<br>NES: 1.71<br>Corr: 0.77\",\"url\":\"\"},{\"class\":\"cl1392\",\"name\":\"RPMI-8402\",\"x\":1.63469172952159,\"y\":0.773473296730073,\"tooltip\":\"RPMI-8402<br>NES: 1.63<br>Corr: 0.77\",\"url\":\"\"},{\"class\":\"cl1100\",\"name\":\"MOLT-3\",\"x\":1.62346707694446,\"y\":0.773859856770076,\"tooltip\":\"MOLT-3<br>NES: 1.62<br>Corr: 0.77\",\"url\":\"\"},{\"class\":\"cl1283\",\"name\":\"OCI-AML-3\",\"x\":1.54736215160141,\"y\":0.789169458260534,\"tooltip\":\"OCI-AML-3<br>NES: 1.55<br>Corr: 0.79\",\"url\":\"\"},{\"class\":\"cl1111\",\"name\":\"MUTZ-5\",\"x\":1.56193280862448,\"y\":0.785599654189771,\"tooltip\":\"MUTZ-5<br>NES: 1.56<br>Corr: 0.79\",\"url\":\"\"},{\"class\":\"cl799\",\"name\":\"HMC-1\",\"x\":1.62004532145954,\"y\":0.772754276456137,\"tooltip\":\"HMC-1<br>NES: 1.62<br>Corr: 0.77\",\"url\":\"\"},{\"class\":\"cl677\",\"name\":\"F-36P\",\"x\":1.57566604791204,\"y\":0.778333120866269,\"tooltip\":\"F-36P<br>NES: 1.58<br>Corr: 0.78\",\"url\":\"\"},{\"class\":\"cl1577\",\"name\":\"TALL-1 [Human adult T-ALL]\",\"x\":1.5843767828841,\"y\":0.774937058330037,\"tooltip\":\"TALL-1 [Human adult T-ALL]<br>NES: 1.58<br>Corr: 0.77\",\"url\":\"\"},{\"class\":\"cl579\",\"name\":\"CCRF-SB\",\"x\":1.61724410573941,\"y\":0.771162414536637,\"tooltip\":\"CCRF-SB<br>NES: 1.62<br>Corr: 0.77\",\"url\":\"\"},{\"class\":\"cl1365\",\"name\":\"RCH-ACV\",\"x\":1.54436593819531,\"y\":0.775947835460286,\"tooltip\":\"RCH-ACV<br>NES: 1.54<br>Corr: 0.78\",\"url\":\"\"},{\"class\":\"cl1343\",\"name\":\"Peer\",\"x\":1.54265303181673,\"y\":0.777983626959536,\"tooltip\":\"Peer<br>NES: 1.54<br>Corr: 0.78\",\"url\":\"\"},{\"class\":\"cl923\",\"name\":\"JURKAT\",\"x\":1.60753074782623,\"y\":0.765350237795709,\"tooltip\":\"JURKAT<br>NES: 1.61<br>Corr: 0.77\",\"url\":\"\"},{\"class\":\"cl925\",\"name\":\"JURL-MK1\",\"x\":1.57616309702959,\"y\":0.768876555741527,\"tooltip\":\"JURL-MK1<br>NES: 1.58<br>Corr: 0.77\",\"url\":\"\"},{\"class\":\"cl924\",\"name\":\"Jurkat E6.1\",\"x\":1.59465600143031,\"y\":0.767790135228778,\"tooltip\":\"Jurkat E6.1<br>NES: 1.59<br>Corr: 0.77\",\"url\":\"\"},{\"class\":\"cl975\",\"name\":\"KOPN-8\",\"x\":1.44976476278324,\"y\":0.781204842585234,\"tooltip\":\"KOPN-8<br>NES: 1.45<br>Corr: 0.78\",\"url\":\"\"},{\"class\":\"cl927\",\"name\":\"JVM-3\",\"x\":1.62158950652245,\"y\":0.752398796568676,\"tooltip\":\"JVM-3<br>NES: 1.62<br>Corr: 0.75\",\"url\":\"\"},{\"class\":\"cl1116\",\"name\":\"NALM-6\",\"x\":1.52927975147204,\"y\":0.773286496585026,\"tooltip\":\"NALM-6<br>NES: 1.53<br>Corr: 0.77\",\"url\":\"\"},{\"class\":\"cl1370\",\"name\":\"REH\",\"x\":1.42716240700341,\"y\":0.779581700745994,\"tooltip\":\"REH<br>NES: 1.43<br>Corr: 0.78\",\"url\":\"\"},{\"class\":\"cl504\",\"name\":\"ALL-SIL\",\"x\":1.50428509755573,\"y\":0.772900154606331,\"tooltip\":\"ALL-SIL<br>NES: 1.50<br>Corr: 0.77\",\"url\":\"\"},{\"class\":\"cl1065\",\"name\":\"MEC-1\",\"x\":1.53148551224295,\"y\":0.770881081963005,\"tooltip\":\"MEC-1<br>NES: 1.53<br>Corr: 0.77\",\"url\":\"\"},{\"class\":\"cl646\",\"name\":\"DND-41\",\"x\":1.48772528678535,\"y\":0.772606656301171,\"tooltip\":\"DND-41<br>NES: 1.49<br>Corr: 0.77\",\"url\":\"\"},{\"class\":\"cl516\",\"name\":\"BDCM\",\"x\":1.53322915725902,\"y\":0.764652014319468,\"tooltip\":\"BDCM<br>NES: 1.53<br>Corr: 0.76\",\"url\":\"\"},{\"class\":\"cl543\",\"name\":\"BV-173\",\"x\":1.4002702211707,\"y\":0.771904763859702,\"tooltip\":\"BV-173<br>NES: 1.40<br>Corr: 0.77\",\"url\":\"\"},{\"class\":\"cl1289\",\"name\":\"OCI-M1\",\"x\":1.45186267099723,\"y\":0.768136914127995,\"tooltip\":\"OCI-M1<br>NES: 1.45<br>Corr: 0.77\",\"url\":\"\"},{\"class\":\"cl1066\",\"name\":\"MEG-01\",\"x\":1.5251452755003,\"y\":0.765304584367542,\"tooltip\":\"MEG-01<br>NES: 1.53<br>Corr: 0.77\",\"url\":\"\"},{\"class\":\"cl1101\",\"name\":\"MOLT-4\",\"x\":1.33520420264376,\"y\":0.771657479863266,\"tooltip\":\"MOLT-4<br>NES: 1.34<br>Corr: 0.77\",\"url\":\"\"},{\"class\":\"cl1547\",\"name\":\"SUP-T11\",\"x\":1.49765928733336,\"y\":0.76146875523808,\"tooltip\":\"SUP-T11<br>NES: 1.50<br>Corr: 0.76\",\"url\":\"\"},{\"class\":\"cl811\",\"name\":\"HPB-ALL\",\"x\":1.52548113343917,\"y\":0.753641487158064,\"tooltip\":\"HPB-ALL<br>NES: 1.53<br>Corr: 0.75\",\"url\":\"\"},{\"class\":\"cl1546\",\"name\":\"SUP-T1\",\"x\":1.4943248315111,\"y\":0.757568910721923,\"tooltip\":\"SUP-T1<br>NES: 1.49<br>Corr: 0.76\",\"url\":\"\"},{\"class\":\"cl921\",\"name\":\"JM-1\",\"x\":1.36603927057621,\"y\":0.767590351206058,\"tooltip\":\"JM-1<br>NES: 1.37<br>Corr: 0.77\",\"url\":\"\"},{\"class\":\"cl476\",\"name\":\"697\",\"x\":1.42957873742699,\"y\":0.76256639623021,\"tooltip\":\"697<br>NES: 1.43<br>Corr: 0.76\",\"url\":\"\"},{\"class\":\"cl1290\",\"name\":\"OCI-M2\",\"x\":1.4736582599239,\"y\":0.753737812423619,\"tooltip\":\"OCI-M2<br>NES: 1.47<br>Corr: 0.75\",\"url\":\"\"},{\"class\":\"cl1395\",\"name\":\"RS4;11\",\"x\":1.30554111286775,\"y\":0.751813622688713,\"tooltip\":\"RS4;11<br>NES: 1.31<br>Corr: 0.75\",\"url\":\"\"},{\"class\":\"cl928\",\"name\":\"K-562\",\"x\":1.29819249020308,\"y\":0.744573564501659,\"tooltip\":\"K-562<br>NES: 1.30<br>Corr: 0.74\",\"url\":\"\"},{\"class\":\"cl990\",\"name\":\"KYO-1\",\"x\":1.24770875776416,\"y\":0.73358081264559,\"tooltip\":\"KYO-1<br>NES: 1.25<br>Corr: 0.73\",\"url\":\"\"},{\"class\":\"cl705\",\"name\":\"HAP1\",\"x\":0.818601618011167,\"y\":0.696179824413345,\"tooltip\":\"HAP1<br>NES: 0.82<br>Corr: 0.70\",\"url\":\"\"}]}],\\n            {\\n                dimension: {w: 400, h: 300},\\n                padding: {t: 20, r: 50, b: 30, l: 30},\\n                xAxisLabel:\\'NES\\',\\n                yAxisLabel:\\'Spearman\\\\\\'s ρ\\',\\n                yTickFormat: \"\",\\n                xTickFormat: \"0.5\",\\n                objectSize:20\\n\\n            }'"
      ]
     },
     "execution_count": 10,
     "metadata": {},
     "output_type": "execute_result"
    }
   ],
   "source": [
    "full_line_text"
   ]
  },
  {
   "cell_type": "markdown",
   "metadata": {},
   "source": [
    "---------------------------------------------------------------------------------\n",
    "### Attempt at Scraping Screen Directly --> Do BIGWIG download from API directly \n",
    "---------------------------------------------------------------------------------"
   ]
  },
  {
   "cell_type": "code",
   "execution_count": null,
   "metadata": {},
   "outputs": [
    {
     "ename": "TypeError",
     "evalue": "__init__() got an unexpected keyword argument 'executable_path'",
     "output_type": "error",
     "traceback": [
      "\u001b[0;31m---------------------------------------------------------------------------\u001b[0m",
      "\u001b[0;31mTypeError\u001b[0m                                 Traceback (most recent call last)",
      "Cell \u001b[0;32mIn[8], line 13\u001b[0m\n\u001b[1;32m     10\u001b[0m options\u001b[38;5;241m.\u001b[39madd_argument(\u001b[38;5;124m'\u001b[39m\u001b[38;5;124m--disable-dev-shm-usage\u001b[39m\u001b[38;5;124m'\u001b[39m)\n\u001b[1;32m     12\u001b[0m \u001b[38;5;66;03m# Path to the chromedriver, make sure chromedriver is in your PATH or provide the full path\u001b[39;00m\n\u001b[0;32m---> 13\u001b[0m driver \u001b[38;5;241m=\u001b[39m \u001b[43mwebdriver\u001b[49m\u001b[38;5;241;43m.\u001b[39;49m\u001b[43mChrome\u001b[49m\u001b[43m(\u001b[49m\u001b[43mexecutable_path\u001b[49m\u001b[38;5;241;43m=\u001b[39;49m\u001b[38;5;124;43m'\u001b[39;49m\u001b[38;5;124;43m/usr/local/bin/chromedriver\u001b[39;49m\u001b[38;5;124;43m'\u001b[39;49m\u001b[43m,\u001b[49m\u001b[43m \u001b[49m\u001b[43moptions\u001b[49m\u001b[38;5;241;43m=\u001b[39;49m\u001b[43moptions\u001b[49m\u001b[43m)\u001b[49m\n\u001b[1;32m     15\u001b[0m \u001b[38;5;28;01mtry\u001b[39;00m:\n\u001b[1;32m     16\u001b[0m     \u001b[38;5;66;03m# Navigate to SCREEN\u001b[39;00m\n\u001b[1;32m     17\u001b[0m     url \u001b[38;5;241m=\u001b[39m \u001b[38;5;124m\"\u001b[39m\u001b[38;5;124mhttps://screen.encodeproject.org/search/?q=EIF6&assembly=GRCh38&uuid=985f9f7f-730a-49d4-8dbf-ee36eab1ab43\u001b[39m\u001b[38;5;124m\"\u001b[39m\n",
      "\u001b[0;31mTypeError\u001b[0m: __init__() got an unexpected keyword argument 'executable_path'"
     ]
    }
   ],
   "source": [
    "from selenium import webdriver\n",
    "from selenium.webdriver.common.by import By\n",
    "from selenium.webdriver.common.keys import Keys\n",
    "import time\n",
    "\n",
    "# Set up Selenium WebDriver\n",
    "options = webdriver.ChromeOptions()\n",
    "options.add_argument('--headless')\n",
    "options.add_argument('--no-sandbox')\n",
    "options.add_argument('--disable-dev-shm-usage')     \n",
    "\n",
    "# Path to the chromedriver, make sure chromedriver is in your PATH or provide the full path\n",
    "driver = webdriver.Chrome(executable_path='/usr/local/bin/chromedriver', options=options)\n",
    "\n",
    "try:\n",
    "    # Navigate to SCREEN\n",
    "    url = \"https://screen.encodeproject.org/search/?q=EIF6&assembly=GRCh38&uuid=985f9f7f-730a-49d4-8dbf-ee36eab1ab43\"\n",
    "    driver.get(url)\n",
    "    time.sleep(5)  # Wait for the page to fully load\n",
    "\n",
    "    # Search for consensus cis-regulatory elements\n",
    "    search_box = driver.find_element(By.XPATH, \"//input[@type='search']\")\n",
    "    search_box.send_keys(\"EIF6\")\n",
    "    search_box.send_keys(Keys.RETURN)\n",
    "    time.sleep(5)  # Wait for search results\n",
    "\n",
    "    # Extract consensus cis-regulatory elements information\n",
    "    results = driver.find_elements(By.CLASS_NAME, \"result-item\")\n",
    "    for result in results:\n",
    "        element_text = result.text\n",
    "        if \"TP53\" in element_text:\n",
    "            print(\"Found TP53 binding site information:\\n\")\n",
    "            print(element_text)\n",
    "\n",
    "finally:\n",
    "    # Close the WebDriver\n",
    "    driver.quit()\n",
    "\n",
    "# Note: Adjust the XPATHs and CLASS_NAME according to the actual HTML structure of the SCREEN page.\n",
    "# The sleep commands are used to wait for the page to load, but it's better to use explicit waits.\n"
   ]
  }
 ],
 "metadata": {
  "kernelspec": {
   "display_name": "web_scraper",
   "language": "python",
   "name": "python3"
  },
  "language_info": {
   "codemirror_mode": {
    "name": "ipython",
    "version": 3
   },
   "file_extension": ".py",
   "mimetype": "text/x-python",
   "name": "python",
   "nbconvert_exporter": "python",
   "pygments_lexer": "ipython3",
   "version": "3.9.12"
  }
 },
 "nbformat": 4,
 "nbformat_minor": 2
}
