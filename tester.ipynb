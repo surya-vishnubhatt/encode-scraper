{
 "cells": [
  {
   "cell_type": "code",
   "execution_count": 14,
   "metadata": {},
   "outputs": [],
   "source": [
    "import requests\n",
    "\n",
    "# URL to fetch data\n",
    "url = \"https://api.cellosaurus.org/search/cell-line?q=ko52\"\n",
    "\n",
    "# Send a GET request\n",
    "response = requests.get(url)\n",
    "\n",
    "# Check if the request was successful\n",
    "if response.status_code == 200:\n",
    "    data = response.json()  # Parse the JSON response\n"
   ]
  },
  {
   "cell_type": "code",
   "execution_count": 41,
   "metadata": {},
   "outputs": [
    {
     "name": "stdout",
     "output_type": "stream",
     "text": [
      "All Leukemia Cell Lines in Protein Atlas: ['Kasumi-6', 'MOLM-6', 'KO52', 'MUTZ-3', 'GDM-1', 'Kasumi-1', 'Mono-Mac-1', 'OCI-AML-5', 'KG-1', 'OCI-AML-2', 'SKM-1', 'SIG-M5', 'NOMO-1', 'P31/FUJ', 'AML-193', 'Mono-Mac-6', 'UKE-1', 'EoL-1', 'CMK', 'Loucy', 'U-937', 'ME-1', 'THP-1', 'MOLT-13', 'NALM-1', 'HNT-34', 'NB4', 'HL-60', 'MOLT-16', 'PLB-985', 'MHH-CALL-2', 'EM-2', 'MOLM-13', 'SET-2', 'MHH-CALL-4', 'MV4-11', 'SEM', 'PL-21', 'SKNO-1', 'HEL', 'LAMA-84', 'M-07e', 'MHH-CALL-3', 'KCL-22', 'TF-1', 'Kasumi-2', 'Ku812', 'KE-37', 'CML-T1', 'ML-2', 'MOLM-16', 'NCO2', 'SUP-B15', 'HEL', 'JK-1', 'P12-Ichikawa', 'NALM-19', 'PF-382', 'RPMI-8402', 'MOLT-3', 'OCI-AML-3', 'MUTZ-5', 'HMC-1', 'F-36P', 'TALL-1', 'CCRF-SB', 'RCH-ACV', 'Peer', 'JURKAT', 'JURL-MK1', 'Jurkat', 'KOPN-8', 'JVM-3', 'NALM-6', 'REH', 'ALL-SIL', 'MEC-1', 'DND-41', 'BDCM', 'BV-173', 'OCI-M1', 'MEG-01', 'MOLT-4', 'SUP-T11', 'HPB-ALL', 'SUP-T1', 'JM-1', '697', 'OCI-M2', 'RS4;11', 'K-562', 'KYO-1', 'HAP1']\n"
     ]
    }
   ],
   "source": [
    "import requests\n",
    "from bs4 import BeautifulSoup\n",
    "import re\n",
    "\n",
    "# URL of the Protein Atlas Leukemia page\n",
    "url = \"https://www.proteinatlas.org/humanproteome/cell+line/leukemia\"\n",
    "\n",
    "# Send a GET request to the webpage\n",
    "response = requests.get(url)\n",
    "\n",
    "# Check if the request was successful\n",
    "if response.status_code == 200:\n",
    "    # Parse the webpage content\n",
    "    soup = BeautifulSoup(response.text, 'html.parser')\n",
    "\n",
    "    # Locate the script tag containing the desired identifier\n",
    "    script_tags = soup.find_all('script')\n",
    "    for script in script_tags:\n",
    "        # Look for the specific identifier in the script content\n",
    "        if \"var plot = $('#celline_prio_leukemia_LAML')\" in script.text:\n",
    "            # Extract the full line containing the scatterPlot data\n",
    "            full_line = re.search(r\"var plot = \\$\\('#celline_prio_leukemia_LAML'\\)\\.scatterPlot\\((.*?)\\);\", script.text, re.DOTALL)\n",
    "            # if full_line:\n",
    "            full_line_text = full_line.group(1)  # Extract the full JSON-like data\n",
    "            cell_lines = re.findall(r'\"name\":\"(.*?)\"', full_line_text)\n",
    "            #Strip trailers\n",
    "            cell_lines = [x.split(' ')[0].replace('\\\\','') for x in cell_lines]\n",
    "            print('All Leukemia Cell Lines in Protein Atlas:',cell_lines)  \n"
   ]
  },
  {
   "cell_type": "code",
   "execution_count": 40,
   "metadata": {},
   "outputs": [
    {
     "name": "stdout",
     "output_type": "stream",
     "text": [
      "There are 34 samples taken from a bone element/bone marrow\n"
     ]
    }
   ],
   "source": [
    "import pandas as pd\n",
    "samples = pd.read_csv('/Users/Surya/Downloads/screen-tsv-download.tsv', header=None, delimiter='\\t')\n",
    "samples.columns = ['cell_type','tissue']\n",
    "leuk_samples = samples[samples['tissue'].str.contains('bone', case=False, na=False)]\n",
    "print(\"There are\", len(leuk_samples), \"samples taken from a bone element/bone marrow\")\n"
   ]
  },
  {
   "cell_type": "code",
   "execution_count": 37,
   "metadata": {},
   "outputs": [
    {
     "name": "stdout",
     "output_type": "stream",
     "text": [
      "Identifier: Kasumi-6\n",
      "Synonyms: KASUMI-6, KASUMI6\n",
      "----------------------------------------\n",
      "Identifier: MOLM-6\n",
      "Synonyms: MOLM6\n",
      "----------------------------------------\n",
      "Identifier: KO52\n",
      "Synonyms: K052, K-052\n",
      "----------------------------------------\n",
      "Identifier: MUTZ-3\n",
      "Synonyms: Mutz-3, MUTZ3, Mutz3, Menschliche Und Tierische Zellkulture-3\n",
      "----------------------------------------\n",
      "Identifier: GDM-1\n",
      "Synonyms: GDM1\n",
      "----------------------------------------\n"
     ]
    }
   ],
   "source": [
    "import requests\n",
    "\n",
    "def extract_name_list_synonyms(data):\n",
    "    \"\"\"\n",
    "    Extract the name list and synonyms from the API response.\n",
    "\n",
    "    Args:\n",
    "        data (dict): Parsed JSON response from the Cellosaurus API.\n",
    "\n",
    "    Returns:\n",
    "        dict: A dictionary containing identifiers and their corresponding synonyms.\n",
    "    \"\"\"\n",
    "    results = {}\n",
    "    # Iterate over each cell line in the 'cell-line-list'\n",
    "    for cell_line_entry in data.get('cell-line-list', []):\n",
    "        # Find the identifier\n",
    "        identifier = None\n",
    "        synonyms = []\n",
    "        for name_entry in cell_line_entry.get('name-list', []):\n",
    "            if name_entry['type'] == 'identifier':\n",
    "                identifier = name_entry['value']\n",
    "            elif name_entry['type'] == 'synonym':\n",
    "                synonyms.append(name_entry['value'])\n",
    "\n",
    "        # Store the identifier and its synonyms\n",
    "        if identifier == query:\n",
    "            results[identifier] = synonyms\n",
    "\n",
    "    return results\n",
    "\n",
    "\n",
    "# Fetch data from the API for a specific cell line\n",
    "for query in cell_lines[0:5]:\n",
    "    url = \"https://api.cellosaurus.org/search/cell-line?q=\" + query\n",
    "    response = requests.get(url)\n",
    "\n",
    "    if response.status_code == 200:\n",
    "        # Parse JSON response\n",
    "        api_data = response.json()\n",
    "        # Extract synonyms\n",
    "        synonyms_data = extract_name_list_synonyms(api_data.get('Cellosaurus', {}))\n",
    "\n",
    "        # Print the results\n",
    "        for identifier, synonyms in synonyms_data.items():\n",
    "            print(f\"Identifier: {identifier}\")\n",
    "            print(f\"Synonyms: {', '.join(synonyms) if synonyms else 'No synonyms found'}\")\n",
    "            print(\"-\" * 40)\n",
    "    else:\n",
    "        print(f\"Failed to fetch data. HTTP Status Code: {response.status_code}\")\n"
   ]
  },
  {
   "cell_type": "code",
   "execution_count": 50,
   "metadata": {},
   "outputs": [
    {
     "name": "stdout",
     "output_type": "stream",
     "text": [
      "            cell_type        tissue matched_identifier\n",
      "0  Jurkat; Clone E6-1  bodily fluid             Jurkat\n"
     ]
    }
   ],
   "source": [
    "import pandas as pd\n",
    "import requests\n",
    "\n",
    "def extract_name_list_synonyms(data, query):\n",
    "    \"\"\"\n",
    "    Extract the name list and synonyms for a specific query from the API response.\n",
    "\n",
    "    Args:\n",
    "        data (dict): Parsed JSON response from the Cellosaurus API.\n",
    "        query (str): The cell line query string.\n",
    "\n",
    "    Returns:\n",
    "        dict: A dictionary containing the identifier and its corresponding synonyms.\n",
    "    \"\"\"\n",
    "    results = {}\n",
    "    # Iterate over each cell line in the 'cell-line-list'\n",
    "    for cell_line_entry in data.get('cell-line-list', []):\n",
    "        # Find the identifier\n",
    "        identifier = None\n",
    "        synonyms = []\n",
    "        for name_entry in cell_line_entry.get('name-list', []):\n",
    "            if name_entry['type'] == 'identifier':\n",
    "                identifier = name_entry['value']\n",
    "            elif name_entry['type'] == 'synonym':\n",
    "                synonyms.append(name_entry['value'])\n",
    "\n",
    "        # Store the identifier and its synonyms if it matches the query\n",
    "        if identifier == query:\n",
    "            results[identifier] = synonyms\n",
    "\n",
    "    return results\n",
    "\n",
    "def find_matching_rows(cell_lines, samples_df):\n",
    "    \"\"\"\n",
    "    Matches rows in the samples DataFrame based on cell line names and synonyms.\n",
    "\n",
    "    Args:\n",
    "        cell_lines (list): List of cell lines to query.\n",
    "        samples_df (pd.DataFrame): DataFrame containing \"cell_type\" and \"tissue\" columns.\n",
    "\n",
    "    Returns:\n",
    "        pd.DataFrame: DataFrame with matched rows and an additional column for the identifier.\n",
    "    \"\"\"\n",
    "    matched_rows = []\n",
    "\n",
    "    for query in cell_lines:\n",
    "        url = \"https://api.cellosaurus.org/search/cell-line?q=\" + query\n",
    "        response = requests.get(url)\n",
    "\n",
    "        if response.status_code == 200:\n",
    "            # Parse JSON response\n",
    "            api_data = response.json()\n",
    "            # Extract synonyms\n",
    "            synonyms_data = extract_name_list_synonyms(api_data.get('Cellosaurus', {}), query)\n",
    "\n",
    "            for identifier, synonyms in synonyms_data.items():\n",
    "                # Combine identifier and synonyms into one list of query strings\n",
    "                query_strings = [identifier] + synonyms\n",
    "\n",
    "                # Match rows where cell_type contains any of the query strings\n",
    "                for _, row in samples_df.iterrows():\n",
    "                    if any(query_string in row['cell_type'] for query_string in query_strings):\n",
    "                        matched_row = row.to_dict()\n",
    "                        matched_row['matched_identifier'] = identifier\n",
    "                        matched_rows.append(matched_row)\n",
    "        else:\n",
    "            print(f\"Failed to fetch data for {query}. HTTP Status Code: {response.status_code}\")\n",
    "\n",
    "    # Create a new DataFrame from the matched rows\n",
    "    return pd.DataFrame(matched_rows)\n",
    "\n",
    "# Example cell lines list\n",
    "cell_lines = cell_lines[0:5]\n",
    "cell_lines.append('Jurkat')\n",
    "\n",
    "# Example samples DataFrame\n",
    "samples_df = samples\n",
    "\n",
    "# Find matching rows\n",
    "matched_df = find_matching_rows(cell_lines, samples_df)\n",
    "\n",
    "# Display the output DataFrame\n",
    "print(matched_df)\n"
   ]
  },
  {
   "cell_type": "code",
   "execution_count": 64,
   "metadata": {},
   "outputs": [],
   "source": [
    "import pandas as pd\n",
    "import requests\n",
    "\n",
    "def extract_name_list_synonyms(data, query):\n",
    "    \"\"\"\n",
    "    Extract the name list and synonyms for a specific query from the API response.\n",
    "\n",
    "    Args:\n",
    "        data (dict): Parsed JSON response from the Cellosaurus API.\n",
    "        query (str): The cell line query string.\n",
    "\n",
    "    Returns:\n",
    "        dict: A dictionary containing the identifier and its corresponding synonyms.\n",
    "    \"\"\"\n",
    "    results = {}\n",
    "    # Iterate over each cell line in the 'cell-line-list'\n",
    "    for cell_line_entry in data.get('cell-line-list', []):\n",
    "        # Find the identifier\n",
    "        identifier = None\n",
    "        synonyms = []\n",
    "        for name_entry in cell_line_entry.get('name-list', []):\n",
    "            if name_entry['type'] == 'identifier':\n",
    "                identifier = name_entry['value']\n",
    "            elif name_entry['type'] == 'synonym':\n",
    "                synonyms.append(name_entry['value'])\n",
    "\n",
    "        # Store the identifier and its synonyms if it matches the query\n",
    "        if identifier.lower() == query.lower():\n",
    "            results[identifier] = synonyms\n",
    "\n",
    "    return results\n",
    "\n",
    "def find_matching_rows(cell_lines, samples_df):\n",
    "    \"\"\"\n",
    "    Matches rows in the samples DataFrame based on cell line names and synonyms, case-insensitively.\n",
    "\n",
    "    Args:\n",
    "        cell_lines (list): List of cell lines to query.\n",
    "        samples_df (pd.DataFrame): DataFrame containing \"cell_type\" and \"tissue\" columns.\n",
    "\n",
    "    Returns:\n",
    "        pd.DataFrame: DataFrame with matched rows and an additional column for the identifier.\n",
    "    \"\"\"\n",
    "    matched_rows = []\n",
    "\n",
    "    # Normalize cell_lines to lowercase for case-insensitive matching\n",
    "    normalized_cell_lines = [line.lower() for line in cell_lines]\n",
    "\n",
    "    for query in normalized_cell_lines:\n",
    "        url = f\"https://api.cellosaurus.org/search/cell-line?q={query}\"\n",
    "        response = requests.get(url)\n",
    "\n",
    "        if response.status_code == 200:\n",
    "            # Parse JSON response\n",
    "            api_data = response.json()\n",
    "            # Extract synonyms\n",
    "            synonyms_data = extract_name_list_synonyms(api_data.get('Cellosaurus', {}), query)\n",
    "\n",
    "            for identifier, synonyms in synonyms_data.items():\n",
    "                # Combine identifier and synonyms into one list of query strings\n",
    "                query_strings = [identifier.lower()] + [synonym.lower() for synonym in synonyms]\n",
    "\n",
    "                # Match rows where cell_type contains any of the query strings (case-insensitively)\n",
    "                for _, row in samples_df.iterrows():\n",
    "                    if any(query_string in row['cell_type'].lower() for query_string in query_strings):\n",
    "                        matched_row = row.to_dict()\n",
    "                        matched_row['matched_identifier'] = identifier\n",
    "                        matched_rows.append(matched_row)\n",
    "        else:\n",
    "            print(f\"Failed to fetch data for {query}. HTTP Status Code: {response.status_code}\")\n",
    "\n",
    "    # Create a new DataFrame from the matched rows\n",
    "    return pd.DataFrame(matched_rows)\n"
   ]
  },
  {
   "cell_type": "code",
   "execution_count": 65,
   "metadata": {},
   "outputs": [
    {
     "name": "stdout",
     "output_type": "stream",
     "text": [
      "            cell_type        tissue matched_identifier\n",
      "0  Jurkat; Clone E6-1  bodily fluid        Jurkat E6.1\n"
     ]
    }
   ],
   "source": [
    "cell_lines = cell_lines[0:5]\n",
    "cell_lines.append('jurkat e6.1')\n",
    "\n",
    "# Example samples DataFrame\n",
    "samples_df = samples\n",
    "\n",
    "# Find matching rows\n",
    "matched_df = find_matching_rows(cell_lines, samples_df)\n",
    "\n",
    "# Display the output DataFrame\n",
    "print(matched_df)"
   ]
  },
  {
   "cell_type": "markdown",
   "metadata": {},
   "source": [
    "# Get the Disease Fetcher"
   ]
  },
  {
   "cell_type": "code",
   "execution_count": 88,
   "metadata": {},
   "outputs": [
    {
     "name": "stdout",
     "output_type": "stream",
     "text": [
      "?\n"
     ]
    }
   ],
   "source": [
    "\n",
    "url = f\"https://api.cellosaurus.org/search/cell-line?q=\" + identifier\n",
    "response = requests.get(url)\n",
    "\n",
    "if response.status_code == 200:\n",
    "    data = response.json()\n",
    "    # print(data)\n",
    "    for cell_line_entry in data.get('cell-line-list', []):\n",
    "        # Debug: Check if we are processing the correct cell line\n",
    "        # print('a')\n",
    "        print(cell_line_entry)\n",
    "        print(f\"Processing identifier: {identifier}\")\n",
    "        print(f\"Cell line entry: {cell_line_entry.get('name-list', [])}\")\n",
    "\n",
    "        # Look for the first instance of the disease-list and retrieve the first \"label\"\n",
    "        disease_list = cell_line_entry.get('disease-list', [])\n",
    "        if disease_list:\n",
    "            print(f\"Disease list found: {disease_list}\")\n",
    "            if 'label' in disease_list[0]:\n",
    "                # return disease_list[0]['label']\n",
    "                print(disease_list[0]['label'])\n",
    "        else:\n",
    "            print(f\"No disease-list found for identifier: {identifier}\")\n",
    "else:\n",
    "    print(f\"Failed to fetch data for {identifier}. HTTP Status Code: {response.status_code}\")\n",
    "print('?')\n",
    "\n"
   ]
  },
  {
   "cell_type": "code",
   "execution_count": 105,
   "metadata": {},
   "outputs": [
    {
     "name": "stdout",
     "output_type": "stream",
     "text": [
      "<class 'list'>\n",
      "[{'accession-list': [{'type': 'primary', 'value': 'CVCL_1230'}], 'age': '66Y', 'category': 'Cancer cell line', 'child-list': [], 'comment-list': [{'category': 'Omics', 'value': 'Transcriptome analysis by RNAseq'}, {'category': 'Omics', 'value': 'Transcriptome analysis by microarray'}, {'category': 'Omics', 'value': 'SNP array analysis'}, {'category': 'Omics', 'value': 'DNA methylation analysis'}, {'category': 'Omics', 'value': 'Deep quantitative proteome analysis'}, {'category': 'Omics', 'value': 'Deep exome analysis'}, {'category': 'Population', 'value': 'Caucasian'}, {'category': 'Part of', 'value': 'TCGA-110-CL cell line panel'}, {'category': 'Part of', 'value': 'COSMIC cell lines project'}, {'category': 'Part of', 'value': 'Cancer Dependency Map project (DepMap) (includes Cancer Cell Line Encyclopedia - CCLE)'}], 'created': '2012-04-04', 'derived-from-site-list': [{'site': {'site-type': 'In situ', 'value': 'Peripheral blood', 'xref-list': [{'accession': 'UBERON_0000178', 'category': 'Anatomy/cell type resources', 'database': 'UBERON', 'label': 'blood', 'url': 'https://www.ebi.ac.uk/ols4/ontologies/uberon/classes/http%253A%252F%252Fpurl.obolibrary.org%252Fobo%252UBERON_0000178'}]}}], 'disease-list': [{'accession': 'C9154', 'category': 'Medical resources', 'database': 'NCIt', 'label': 'Adult acute myeloid leukemia', 'url': 'https://ncit.nci.nih.gov/ncitbrowser/ConceptReport.jsp?dictionary=NCI_Thesaurus&code=C9154'}, {'accession': 'Orphanet_519', 'category': 'Medical resources', 'database': 'ORDO', 'label': 'Acute myeloid leukemia', 'url': 'https://www.ebi.ac.uk/ols4/ontologies/ordo/classes?iri=http://www.orpha.net/ORDO/Orphanet_519'}], 'doubling-time-list': [{'doubling-time-value': '~40-50 hours', 'source-list': [{'xref': {'accession': 'ACC-87', 'category': 'Cell line collections (Providers)', 'database': 'DSMZ', 'url': 'https://www.dsmz.de/collection/catalogue/details/culture/ACC-87'}}]}, {'doubling-time-value': '96-12 hours', 'source-list': [{'reference': {'resource-internal-ref': 'PubMed=6296552'}}]}], 'entry-version': '39', 'genome-ancestry': {'population-list': [{'population-name': 'African', 'population-percentage': '1.71'}, {'population-name': 'Native American', 'population-percentage': '1.16'}, {'population-name': 'East Asian, North', 'population-percentage': '0'}, {'population-name': 'East Asian, South', 'population-percentage': '2.32'}, {'population-name': 'South Asian', 'population-percentage': '9.02'}, {'population-name': 'European, North', 'population-percentage': '27.3'}, {'population-name': 'European, South', 'population-percentage': '58.5'}], 'source': {'reference': {'resource-internal-ref': 'PubMed=30894373'}}}, 'hla-typing-list': [{'hla-gene-alleles-list': [{'alleles': '02:01,68:02', 'gene': 'HLA-A'}, {'alleles': '35:03,38:01', 'gene': 'HLA-B'}, {'alleles': '04:01,12:03', 'gene': 'HLA-C'}], 'source': {'reference': {'resource-internal-ref': 'PubMed=26589293'}}}], 'last-updated': '2024-05-02', 'microsatellite-instability-list': [{'msi-value': 'Stable (MSS)', 'source-list': ['Sanger']}], 'misspelling-list': [{'misspelling-name': 'GMD-1', 'xref-list': [{'accession': '2131537', 'category': 'Polymorphism and mutation databases', 'database': 'Cosmic', 'url': 'https://cancer.sanger.ac.uk/cosmic/sample/overview?id=2131537'}]}], 'name-list': [{'type': 'identifier', 'value': 'GDM-1'}, {'type': 'synonym', 'value': 'GDM1'}], 'reference-list': [{'resource-internal-ref': 'DOI=10.1016/B978-0-12-221970-2.50457-5'}, {'resource-internal-ref': 'PubMed=6296552'}, {'resource-internal-ref': 'PubMed=16408098'}, {'resource-internal-ref': 'PubMed=20164919'}, {'resource-internal-ref': 'PubMed=20215515'}, {'resource-internal-ref': 'PubMed=22460905'}, {'resource-internal-ref': 'PubMed=23955599'}, {'resource-internal-ref': 'PubMed=25877200'}, {'resource-internal-ref': 'PubMed=26589293'}, {'resource-internal-ref': 'PubMed=27397505'}, {'resource-internal-ref': 'PubMed=30285677'}, {'resource-internal-ref': 'PubMed=30629668'}, {'resource-internal-ref': 'PubMed=30894373'}, {'resource-internal-ref': 'PubMed=31068700'}, {'resource-internal-ref': 'PubMed=31395879'}, {'resource-internal-ref': 'PubMed=35839778'}], 'sex': 'Female', 'species-list': [{'accession': '9606', 'category': 'Taxonomy', 'database': 'NCBI_TaxID', 'label': 'Homo sapiens (Human)', 'url': 'https://www.ncbi.nlm.nih.gov/Taxonomy/Browser/wwwtax.cgi?mode=Info&id=9606&lvl=3'}], 'str-list': {'marker-list': [{'conflict': 'false', 'id': 'Amelogenin', 'marker-data-list': [{'marker-alleles': 'X'}]}, {'conflict': 'false', 'id': 'CSF1PO', 'marker-data-list': [{'marker-alleles': '12'}]}, {'conflict': 'false', 'id': 'D13S317', 'marker-data-list': [{'marker-alleles': '11,12'}]}, {'conflict': 'false', 'id': 'D16S539', 'marker-data-list': [{'marker-alleles': '12'}]}, {'conflict': 'false', 'id': 'D18S51', 'marker-data-list': [{'marker-alleles': '12,13'}]}, {'conflict': 'false', 'id': 'D19S433', 'marker-data-list': [{'marker-alleles': '13,15'}]}, {'conflict': 'false', 'id': 'D21S11', 'marker-data-list': [{'marker-alleles': '29'}]}, {'conflict': 'false', 'id': 'D2S1338', 'marker-data-list': [{'marker-alleles': '17,20'}]}, {'conflict': 'false', 'id': 'D3S1358', 'marker-data-list': [{'marker-alleles': '14,15'}]}, {'conflict': 'false', 'id': 'D5S818', 'marker-data-list': [{'marker-alleles': '13'}]}, {'conflict': 'false', 'id': 'D7S820', 'marker-data-list': [{'marker-alleles': '11,12'}]}, {'conflict': 'false', 'id': 'D8S1179', 'marker-data-list': [{'marker-alleles': '14,16'}]}, {'conflict': 'false', 'id': 'FGA', 'marker-data-list': [{'marker-alleles': '22,23'}]}, {'conflict': 'false', 'id': 'Penta D', 'marker-data-list': [{'marker-alleles': '8,11'}]}, {'conflict': 'false', 'id': 'Penta E', 'marker-data-list': [{'marker-alleles': '15,20'}]}, {'conflict': 'false', 'id': 'TH01', 'marker-data-list': [{'marker-alleles': '6'}]}, {'conflict': 'false', 'id': 'TPOX', 'marker-data-list': [{'marker-alleles': '8,11'}]}, {'conflict': 'false', 'id': 'vWA', 'marker-data-list': [{'marker-alleles': '16,17'}]}], 'source-list': [{'xref': {'accession': 'ACC-87', 'category': 'Cell line collections (Providers)', 'database': 'DSMZ', 'url': 'https://www.dsmz.de/collection/catalogue/details/culture/ACC-87'}}, {'xref': {'accession': '906870', 'category': 'Cell line databases/resources', 'database': 'Cosmic-CLP', 'url': 'https://cancer.sanger.ac.uk/cell_lines/sample/overview?id=906870'}}, {'xref': {'accession': 'CRL-2627', 'category': 'Cell line collections (Providers)', 'database': 'ATCC', 'url': 'https://www.atcc.org/Products/CRL-2627'}}, {'reference': {'resource-internal-ref': 'PubMed=25877200'}}]}, 'xref-list': [{'accession': 'CLO_0003467', 'category': 'Cell line databases/resources', 'database': 'CLO', 'url': 'https://www.ebi.ac.uk/ols4/ontologies/clo/classes?iri=http://purl.obolibrary.org/obo/CLO_0003467'}, {'accession': 'EFO_0002183', 'category': 'Experimental variables resources', 'database': 'EFO', 'url': 'https://www.ebi.ac.uk/efo/EFO_0002183'}, {'accession': 'cl1446', 'category': 'Cell line databases/resources', 'database': 'CLDB', 'url': 'http://bioinformatics.hsanmartino.it/cldb/cl1446.html'}, {'accession': 'cl5541', 'category': 'Cell line databases/resources', 'database': 'CLDB', 'url': 'http://bioinformatics.hsanmartino.it/cldb/cl5541.html'}, {'accession': 'E-MTAB-38', 'category': 'Gene expression databases', 'database': 'ArrayExpress', 'url': 'https://www.ebi.ac.uk/biostudies/ArrayExpress/studies/E-MTAB-38'}, {'accession': 'E-MTAB-783', 'category': 'Gene expression databases', 'database': 'ArrayExpress', 'url': 'https://www.ebi.ac.uk/biostudies/ArrayExpress/studies/E-MTAB-783'}, {'accession': 'E-MTAB-2770', 'category': 'Gene expression databases', 'database': 'ArrayExpress', 'url': 'https://www.ebi.ac.uk/biostudies/ArrayExpress/studies/E-MTAB-2770'}, {'accession': 'E-MTAB-3610', 'category': 'Gene expression databases', 'database': 'ArrayExpress', 'url': 'https://www.ebi.ac.uk/biostudies/ArrayExpress/studies/E-MTAB-3610'}, {'accession': 'CRL-2627', 'category': 'Cell line collections (Providers)', 'database': 'ATCC', 'url': 'https://www.atcc.org/Products/CRL-2627'}, {'accession': 'SAMN03473160', 'category': 'Biological sample resources', 'database': 'BioSample', 'url': 'https://www.ncbi.nlm.nih.gov/biosample/?term=SAMN03473160'}, {'accession': 'SAMN10987916', 'category': 'Biological sample resources', 'database': 'BioSample', 'url': 'https://www.ncbi.nlm.nih.gov/biosample/?term=SAMN10987916'}, {'accession': 'CVCL_1230', 'category': 'Cell line databases/resources', 'database': 'cancercelllines', 'url': 'https://cancercelllines.org/cellline/?id=cellosaurus:CVCL_1230'}, {'accession': 'SIDM01057', 'category': 'Cell line databases/resources', 'database': 'Cell_Model_Passport', 'url': 'https://cellmodelpassports.sanger.ac.uk/passports/SIDM01057'}, {'accession': '9221-4', 'category': 'Cell line databases/resources', 'database': 'CGH-DB'}, {'accession': 'CHEMBL3308198', 'category': 'Chemistry resources', 'database': 'ChEMBL-Cells', 'url': 'https://www.ebi.ac.uk/chembldb/cell/inspect/CHEMBL3308198'}, {'accession': 'CHEMBL2366157', 'category': 'Chemistry resources', 'database': 'ChEMBL-Targets', 'url': 'https://www.ebi.ac.uk/chembldb/target/inspect/CHEMBL2366157'}, {'accession': '787430', 'category': 'Polymorphism and mutation databases', 'database': 'Cosmic', 'url': 'https://cancer.sanger.ac.uk/cosmic/sample/overview?id=787430'}, {'accession': '906870', 'category': 'Polymorphism and mutation databases', 'database': 'Cosmic', 'url': 'https://cancer.sanger.ac.uk/cosmic/sample/overview?id=906870'}, {'accession': '947368', 'category': 'Polymorphism and mutation databases', 'database': 'Cosmic', 'url': 'https://cancer.sanger.ac.uk/cosmic/sample/overview?id=947368'}, {'accession': '975249', 'category': 'Polymorphism and mutation databases', 'database': 'Cosmic', 'url': 'https://cancer.sanger.ac.uk/cosmic/sample/overview?id=975249'}, {'accession': '999777', 'category': 'Polymorphism and mutation databases', 'database': 'Cosmic', 'url': 'https://cancer.sanger.ac.uk/cosmic/sample/overview?id=999777'}, {'accession': '1012067', 'category': 'Polymorphism and mutation databases', 'database': 'Cosmic', 'url': 'https://cancer.sanger.ac.uk/cosmic/sample/overview?id=1012067'}, {'accession': '1177802', 'category': 'Polymorphism and mutation databases', 'database': 'Cosmic', 'url': 'https://cancer.sanger.ac.uk/cosmic/sample/overview?id=1177802'}, {'accession': '1197932', 'category': 'Polymorphism and mutation databases', 'database': 'Cosmic', 'url': 'https://cancer.sanger.ac.uk/cosmic/sample/overview?id=1197932'}, {'accession': '1281313', 'category': 'Polymorphism and mutation databases', 'database': 'Cosmic', 'url': 'https://cancer.sanger.ac.uk/cosmic/sample/overview?id=1281313'}, {'accession': '2089666', 'category': 'Polymorphism and mutation databases', 'database': 'Cosmic', 'url': 'https://cancer.sanger.ac.uk/cosmic/sample/overview?id=2089666'}, {'accession': '2131537', 'category': 'Polymorphism and mutation databases', 'database': 'Cosmic', 'url': 'https://cancer.sanger.ac.uk/cosmic/sample/overview?id=2131537'}, {'accession': '2306196', 'category': 'Polymorphism and mutation databases', 'database': 'Cosmic', 'url': 'https://cancer.sanger.ac.uk/cosmic/sample/overview?id=2306196'}, {'accession': '906870', 'category': 'Cell line databases/resources', 'database': 'Cosmic-CLP', 'url': 'https://cancer.sanger.ac.uk/cell_lines/sample/overview?id=906870'}, {'accession': 'ACH-000081', 'category': 'Cell line databases/resources', 'database': 'DepMap', 'url': 'https://depmap.org/portal/cell_line/ACH-000081'}, {'accession': 'ACC-87', 'category': 'Cell line collections (Providers)', 'database': 'DSMZ', 'url': 'https://www.dsmz.de/collection/catalogue/details/culture/ACC-87'}, {'accession': 'ACC-87', 'category': 'Cell line databases/resources', 'database': 'DSMZCellDive', 'url': 'https://celldive.dsmz.de/celllines/ACC-87'}, {'accession': 'EGAS00001000978', 'category': 'Sequence databases', 'database': 'EGA', 'url': 'https://ega-archive.org/studies/EGAS00001000978'}, {'accession': '906870', 'category': 'Chemistry resources', 'database': 'GDSC', 'url': 'https://www.cancerrxgene.org/translation/CellLine/906870'}, {'accession': 'GSM887023', 'category': 'Gene expression databases', 'database': 'GEO', 'url': 'https://www.ncbi.nlm.nih.gov/geo/query/acc.cgi?acc=GSM887023'}, {'accession': 'GSM888093', 'category': 'Gene expression databases', 'database': 'GEO', 'url': 'https://www.ncbi.nlm.nih.gov/geo/query/acc.cgi?acc=GSM888093'}, {'accession': 'GSM1446735', 'category': 'Gene expression databases', 'database': 'GEO', 'url': 'https://www.ncbi.nlm.nih.gov/geo/query/acc.cgi?acc=GSM1446735'}, {'accession': 'GSM1669808', 'category': 'Gene expression databases', 'database': 'GEO', 'url': 'https://www.ncbi.nlm.nih.gov/geo/query/acc.cgi?acc=GSM1669808'}, {'accession': 'HTL01008', 'category': 'Cell line collections (Providers)', 'database': 'ICLC', 'url': 'http://www.iclc.it/details/det_list.php?line_id=HTL01008'}, {'accession': '21342', 'category': 'Polymorphism and mutation databases', 'database': 'IARC_TP53'}, {'accession': 'GDM1', 'category': 'Cell line databases/resources', 'database': 'IGRhCellID', 'url': 'http://igrcid.ibms.sinica.edu.tw/cgi-bin/cell_line_view.cgi?cl_name=GDM1'}, {'accession': 'CCLE_860', 'category': 'Polymorphism and mutation databases', 'database': 'LiGeA', 'url': 'http://hpc-bioinformatics.cineca.it/fusion/cell_line/CCLE_860'}, {'accession': 'LCL-1052', 'category': 'Cell line databases/resources', 'database': 'LINCS_LDP', 'url': 'http://lincsportal.ccs.miami.edu/cells/#/view/LCL-1052'}, {'accession': 'GDM1_402_2019', 'category': 'Chemistry resources', 'database': 'PharmacoDB', 'url': 'https://pharmacodb.ca/cell_lines/GDM1_402_2019'}, {'accession': 'PXD030304', 'category': 'Proteomic databases', 'database': 'PRIDE', 'url': 'https://www.ebi.ac.uk/pride/archive/projects/PXD030304'}, {'accession': 'CVCL_1230', 'category': 'Polymorphism and mutation databases', 'database': 'Progenetix', 'url': 'https://progenetix.org/biosamples/by-curie/cellosaurus:CVCL_1230'}, {'accession': 'CVCL_1230', 'category': 'Chemistry resources', 'database': 'PubChem_Cell_line', 'url': 'https://pubchem.ncbi.nlm.nih.gov/cell/CVCL_1230'}, {'accession': 'Q54835529', 'category': 'Encyclopedic resources', 'database': 'Wikidata', 'url': 'https://www.wikidata.org/wiki/Q54835529'}]}]\n"
     ]
    }
   ],
   "source": [
    "# Assuming data is your dictionary\n",
    "cell_line_list = data['Cellosaurus'].get('cell-line-list')\n",
    "print(type(cell_line_list))\n",
    "print(cell_line_list)\n",
    "#\n"
   ]
  },
  {
   "cell_type": "code",
   "execution_count": 106,
   "metadata": {},
   "outputs": [
    {
     "name": "stdout",
     "output_type": "stream",
     "text": [
      "Disease List: [{'accession': 'C9154', 'category': 'Medical resources', 'database': 'NCIt', 'label': 'Adult acute myeloid leukemia', 'url': 'https://ncit.nci.nih.gov/ncitbrowser/ConceptReport.jsp?dictionary=NCI_Thesaurus&code=C9154'}, {'accession': 'Orphanet_519', 'category': 'Medical resources', 'database': 'ORDO', 'label': 'Acute myeloid leukemia', 'url': 'https://www.ebi.ac.uk/ols4/ontologies/ordo/classes?iri=http://www.orpha.net/ORDO/Orphanet_519'}]\n"
     ]
    }
   ],
   "source": [
    "# Assuming `data` contains your dictionary\n",
    "cell_line_list = data['Cellosaurus'].get('cell-line-list')  # Access the list\n",
    "\n",
    "# Access the first element of the list (a dictionary)\n",
    "if isinstance(cell_line_list, list) and len(cell_line_list) > 0:\n",
    "    first_entry = cell_line_list[0]  # First element in the list\n",
    "\n",
    "    # Check if 'disease-list' exists in the first dictionary\n",
    "    if 'disease-list' in first_entry:\n",
    "        disease_list = first_entry['disease-list']  # Extract the 'disease-list'\n",
    "        print(\"Disease List:\", disease_list)\n",
    "else:\n",
    "    print(\"Cell line list is empty or not a list.\")\n"
   ]
  },
  {
   "cell_type": "code",
   "execution_count": 31,
   "metadata": {},
   "outputs": [],
   "source": [
    "query = 'bob'\n",
    "url = \"https://api.cellosaurus.org/search/cell-line?q=\" + query"
   ]
  },
  {
   "cell_type": "code",
   "execution_count": 32,
   "metadata": {},
   "outputs": [
    {
     "data": {
      "text/plain": [
       "'https://api.cellosaurus.org/search/cell-line?q=bob'"
      ]
     },
     "execution_count": 32,
     "metadata": {},
     "output_type": "execute_result"
    }
   ],
   "source": [
    "url"
   ]
  },
  {
   "cell_type": "code",
   "execution_count": 54,
   "metadata": {},
   "outputs": [
    {
     "data": {
      "text/plain": [
       "['Kasumi-6', 'MOLM-6', 'KO52', 'MUTZ-3', 'GDM-1', 'JURKAT']"
      ]
     },
     "execution_count": 54,
     "metadata": {},
     "output_type": "execute_result"
    }
   ],
   "source": [
    "cell_lines"
   ]
  },
  {
   "cell_type": "code",
   "execution_count": null,
   "metadata": {},
   "outputs": [],
   "source": []
  }
 ],
 "metadata": {
  "kernelspec": {
   "display_name": "web_scraper",
   "language": "python",
   "name": "python3"
  },
  "language_info": {
   "codemirror_mode": {
    "name": "ipython",
    "version": 3
   },
   "file_extension": ".py",
   "mimetype": "text/x-python",
   "name": "python",
   "nbconvert_exporter": "python",
   "pygments_lexer": "ipython3",
   "version": "3.9.12"
  }
 },
 "nbformat": 4,
 "nbformat_minor": 2
}
