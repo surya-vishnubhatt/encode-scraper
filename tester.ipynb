{
 "cells": [
  {
   "cell_type": "code",
   "execution_count": 14,
   "metadata": {},
   "outputs": [],
   "source": [
    "import requests\n",
    "\n",
    "# URL to fetch data\n",
    "url = \"https://api.cellosaurus.org/search/cell-line?q=ko52\"\n",
    "\n",
    "# Send a GET request\n",
    "response = requests.get(url)\n",
    "\n",
    "# Check if the request was successful\n",
    "if response.status_code == 200:\n",
    "    data = response.json()  # Parse the JSON response\n"
   ]
  },
  {
   "cell_type": "code",
   "execution_count": 41,
   "metadata": {},
   "outputs": [
    {
     "name": "stdout",
     "output_type": "stream",
     "text": [
      "All Leukemia Cell Lines in Protein Atlas: ['Kasumi-6', 'MOLM-6', 'KO52', 'MUTZ-3', 'GDM-1', 'Kasumi-1', 'Mono-Mac-1', 'OCI-AML-5', 'KG-1', 'OCI-AML-2', 'SKM-1', 'SIG-M5', 'NOMO-1', 'P31/FUJ', 'AML-193', 'Mono-Mac-6', 'UKE-1', 'EoL-1', 'CMK', 'Loucy', 'U-937', 'ME-1', 'THP-1', 'MOLT-13', 'NALM-1', 'HNT-34', 'NB4', 'HL-60', 'MOLT-16', 'PLB-985', 'MHH-CALL-2', 'EM-2', 'MOLM-13', 'SET-2', 'MHH-CALL-4', 'MV4-11', 'SEM', 'PL-21', 'SKNO-1', 'HEL', 'LAMA-84', 'M-07e', 'MHH-CALL-3', 'KCL-22', 'TF-1', 'Kasumi-2', 'Ku812', 'KE-37', 'CML-T1', 'ML-2', 'MOLM-16', 'NCO2', 'SUP-B15', 'HEL', 'JK-1', 'P12-Ichikawa', 'NALM-19', 'PF-382', 'RPMI-8402', 'MOLT-3', 'OCI-AML-3', 'MUTZ-5', 'HMC-1', 'F-36P', 'TALL-1', 'CCRF-SB', 'RCH-ACV', 'Peer', 'JURKAT', 'JURL-MK1', 'Jurkat', 'KOPN-8', 'JVM-3', 'NALM-6', 'REH', 'ALL-SIL', 'MEC-1', 'DND-41', 'BDCM', 'BV-173', 'OCI-M1', 'MEG-01', 'MOLT-4', 'SUP-T11', 'HPB-ALL', 'SUP-T1', 'JM-1', '697', 'OCI-M2', 'RS4;11', 'K-562', 'KYO-1', 'HAP1']\n"
     ]
    }
   ],
   "source": [
    "import requests\n",
    "from bs4 import BeautifulSoup\n",
    "import re\n",
    "\n",
    "# URL of the Protein Atlas Leukemia page\n",
    "url = \"https://www.proteinatlas.org/humanproteome/cell+line/leukemia\"\n",
    "\n",
    "# Send a GET request to the webpage\n",
    "response = requests.get(url)\n",
    "\n",
    "# Check if the request was successful\n",
    "if response.status_code == 200:\n",
    "    # Parse the webpage content\n",
    "    soup = BeautifulSoup(response.text, 'html.parser')\n",
    "\n",
    "    # Locate the script tag containing the desired identifier\n",
    "    script_tags = soup.find_all('script')\n",
    "    for script in script_tags:\n",
    "        # Look for the specific identifier in the script content\n",
    "        if \"var plot = $('#celline_prio_leukemia_LAML')\" in script.text:\n",
    "            # Extract the full line containing the scatterPlot data\n",
    "            full_line = re.search(r\"var plot = \\$\\('#celline_prio_leukemia_LAML'\\)\\.scatterPlot\\((.*?)\\);\", script.text, re.DOTALL)\n",
    "            # if full_line:\n",
    "            full_line_text = full_line.group(1)  # Extract the full JSON-like data\n",
    "            cell_lines = re.findall(r'\"name\":\"(.*?)\"', full_line_text)\n",
    "            #Strip trailers\n",
    "            cell_lines = [x.split(' ')[0].replace('\\\\','') for x in cell_lines]\n",
    "            print('All Leukemia Cell Lines in Protein Atlas:',cell_lines)  \n"
   ]
  },
  {
   "cell_type": "code",
   "execution_count": 40,
   "metadata": {},
   "outputs": [
    {
     "name": "stdout",
     "output_type": "stream",
     "text": [
      "There are 34 samples taken from a bone element/bone marrow\n"
     ]
    }
   ],
   "source": [
    "import pandas as pd\n",
    "samples = pd.read_csv('/Users/Surya/Downloads/screen-tsv-download.tsv', header=None, delimiter='\\t')\n",
    "samples.columns = ['cell_type','tissue']\n",
    "leuk_samples = samples[samples['tissue'].str.contains('bone', case=False, na=False)]\n",
    "print(\"There are\", len(leuk_samples), \"samples taken from a bone element/bone marrow\")\n"
   ]
  },
  {
   "cell_type": "code",
   "execution_count": 37,
   "metadata": {},
   "outputs": [
    {
     "name": "stdout",
     "output_type": "stream",
     "text": [
      "Identifier: Kasumi-6\n",
      "Synonyms: KASUMI-6, KASUMI6\n",
      "----------------------------------------\n",
      "Identifier: MOLM-6\n",
      "Synonyms: MOLM6\n",
      "----------------------------------------\n",
      "Identifier: KO52\n",
      "Synonyms: K052, K-052\n",
      "----------------------------------------\n",
      "Identifier: MUTZ-3\n",
      "Synonyms: Mutz-3, MUTZ3, Mutz3, Menschliche Und Tierische Zellkulture-3\n",
      "----------------------------------------\n",
      "Identifier: GDM-1\n",
      "Synonyms: GDM1\n",
      "----------------------------------------\n"
     ]
    }
   ],
   "source": [
    "import requests\n",
    "\n",
    "def extract_name_list_synonyms(data):\n",
    "    \"\"\"\n",
    "    Extract the name list and synonyms from the API response.\n",
    "\n",
    "    Args:\n",
    "        data (dict): Parsed JSON response from the Cellosaurus API.\n",
    "\n",
    "    Returns:\n",
    "        dict: A dictionary containing identifiers and their corresponding synonyms.\n",
    "    \"\"\"\n",
    "    results = {}\n",
    "    # Iterate over each cell line in the 'cell-line-list'\n",
    "    for cell_line_entry in data.get('cell-line-list', []):\n",
    "        # Find the identifier\n",
    "        identifier = None\n",
    "        synonyms = []\n",
    "        for name_entry in cell_line_entry.get('name-list', []):\n",
    "            if name_entry['type'] == 'identifier':\n",
    "                identifier = name_entry['value']\n",
    "            elif name_entry['type'] == 'synonym':\n",
    "                synonyms.append(name_entry['value'])\n",
    "\n",
    "        # Store the identifier and its synonyms\n",
    "        if identifier == query:\n",
    "            results[identifier] = synonyms\n",
    "\n",
    "    return results\n",
    "\n",
    "\n",
    "# Fetch data from the API for a specific cell line\n",
    "for query in cell_lines[0:5]:\n",
    "    url = \"https://api.cellosaurus.org/search/cell-line?q=\" + query\n",
    "    response = requests.get(url)\n",
    "\n",
    "    if response.status_code == 200:\n",
    "        # Parse JSON response\n",
    "        api_data = response.json()\n",
    "        # Extract synonyms\n",
    "        synonyms_data = extract_name_list_synonyms(api_data.get('Cellosaurus', {}))\n",
    "\n",
    "        # Print the results\n",
    "        for identifier, synonyms in synonyms_data.items():\n",
    "            print(f\"Identifier: {identifier}\")\n",
    "            print(f\"Synonyms: {', '.join(synonyms) if synonyms else 'No synonyms found'}\")\n",
    "            print(\"-\" * 40)\n",
    "    else:\n",
    "        print(f\"Failed to fetch data. HTTP Status Code: {response.status_code}\")\n"
   ]
  },
  {
   "cell_type": "code",
   "execution_count": 50,
   "metadata": {},
   "outputs": [
    {
     "name": "stdout",
     "output_type": "stream",
     "text": [
      "            cell_type        tissue matched_identifier\n",
      "0  Jurkat; Clone E6-1  bodily fluid             Jurkat\n"
     ]
    }
   ],
   "source": [
    "import pandas as pd\n",
    "import requests\n",
    "\n",
    "def extract_name_list_synonyms(data, query):\n",
    "    \"\"\"\n",
    "    Extract the name list and synonyms for a specific query from the API response.\n",
    "\n",
    "    Args:\n",
    "        data (dict): Parsed JSON response from the Cellosaurus API.\n",
    "        query (str): The cell line query string.\n",
    "\n",
    "    Returns:\n",
    "        dict: A dictionary containing the identifier and its corresponding synonyms.\n",
    "    \"\"\"\n",
    "    results = {}\n",
    "    # Iterate over each cell line in the 'cell-line-list'\n",
    "    for cell_line_entry in data.get('cell-line-list', []):\n",
    "        # Find the identifier\n",
    "        identifier = None\n",
    "        synonyms = []\n",
    "        for name_entry in cell_line_entry.get('name-list', []):\n",
    "            if name_entry['type'] == 'identifier':\n",
    "                identifier = name_entry['value']\n",
    "            elif name_entry['type'] == 'synonym':\n",
    "                synonyms.append(name_entry['value'])\n",
    "\n",
    "        # Store the identifier and its synonyms if it matches the query\n",
    "        if identifier == query:\n",
    "            results[identifier] = synonyms\n",
    "\n",
    "    return results\n",
    "\n",
    "def find_matching_rows(cell_lines, samples_df):\n",
    "    \"\"\"\n",
    "    Matches rows in the samples DataFrame based on cell line names and synonyms.\n",
    "\n",
    "    Args:\n",
    "        cell_lines (list): List of cell lines to query.\n",
    "        samples_df (pd.DataFrame): DataFrame containing \"cell_type\" and \"tissue\" columns.\n",
    "\n",
    "    Returns:\n",
    "        pd.DataFrame: DataFrame with matched rows and an additional column for the identifier.\n",
    "    \"\"\"\n",
    "    matched_rows = []\n",
    "\n",
    "    for query in cell_lines:\n",
    "        url = \"https://api.cellosaurus.org/search/cell-line?q=\" + query\n",
    "        response = requests.get(url)\n",
    "\n",
    "        if response.status_code == 200:\n",
    "            # Parse JSON response\n",
    "            api_data = response.json()\n",
    "            # Extract synonyms\n",
    "            synonyms_data = extract_name_list_synonyms(api_data.get('Cellosaurus', {}), query)\n",
    "\n",
    "            for identifier, synonyms in synonyms_data.items():\n",
    "                # Combine identifier and synonyms into one list of query strings\n",
    "                query_strings = [identifier] + synonyms\n",
    "\n",
    "                # Match rows where cell_type contains any of the query strings\n",
    "                for _, row in samples_df.iterrows():\n",
    "                    if any(query_string in row['cell_type'] for query_string in query_strings):\n",
    "                        matched_row = row.to_dict()\n",
    "                        matched_row['matched_identifier'] = identifier\n",
    "                        matched_rows.append(matched_row)\n",
    "        else:\n",
    "            print(f\"Failed to fetch data for {query}. HTTP Status Code: {response.status_code}\")\n",
    "\n",
    "    # Create a new DataFrame from the matched rows\n",
    "    return pd.DataFrame(matched_rows)\n",
    "\n",
    "# Example cell lines list\n",
    "cell_lines = cell_lines[0:5]\n",
    "cell_lines.append('Jurkat')\n",
    "\n",
    "# Example samples DataFrame\n",
    "samples_df = samples\n",
    "\n",
    "# Find matching rows\n",
    "matched_df = find_matching_rows(cell_lines, samples_df)\n",
    "\n",
    "# Display the output DataFrame\n",
    "print(matched_df)\n"
   ]
  },
  {
   "cell_type": "code",
   "execution_count": 55,
   "metadata": {},
   "outputs": [],
   "source": [
    "import pandas as pd\n",
    "import requests\n",
    "\n",
    "def extract_name_list_synonyms(data, query):\n",
    "    \"\"\"\n",
    "    Extract the name list and synonyms for a specific query from the API response.\n",
    "\n",
    "    Args:\n",
    "        data (dict): Parsed JSON response from the Cellosaurus API.\n",
    "        query (str): The cell line query string.\n",
    "\n",
    "    Returns:\n",
    "        dict: A dictionary containing the identifier and its corresponding synonyms.\n",
    "    \"\"\"\n",
    "    results = {}\n",
    "    # Iterate over each cell line in the 'cell-line-list'\n",
    "    for cell_line_entry in data.get('cell-line-list', []):\n",
    "        # Find the identifier\n",
    "        identifier = None\n",
    "        synonyms = []\n",
    "        for name_entry in cell_line_entry.get('name-list', []):\n",
    "            if name_entry['type'] == 'identifier':\n",
    "                identifier = name_entry['value']\n",
    "            elif name_entry['type'] == 'synonym':\n",
    "                synonyms.append(name_entry['value'])\n",
    "\n",
    "        # Store the identifier and its synonyms if it matches the query\n",
    "        if identifier.lower() == query.lower():\n",
    "            results[identifier] = synonyms\n",
    "\n",
    "    return results\n",
    "\n",
    "def find_matching_rows(cell_lines, samples_df):\n",
    "    \"\"\"\n",
    "    Matches rows in the samples DataFrame based on cell line names and synonyms, case-insensitively.\n",
    "\n",
    "    Args:\n",
    "        cell_lines (list): List of cell lines to query.\n",
    "        samples_df (pd.DataFrame): DataFrame containing \"cell_type\" and \"tissue\" columns.\n",
    "\n",
    "    Returns:\n",
    "        pd.DataFrame: DataFrame with matched rows and an additional column for the identifier.\n",
    "    \"\"\"\n",
    "    matched_rows = []\n",
    "\n",
    "    # Normalize cell_lines to lowercase for case-insensitive matching\n",
    "    normalized_cell_lines = [line.lower() for line in cell_lines]\n",
    "\n",
    "    for query in normalized_cell_lines:\n",
    "        url = f\"https://api.cellosaurus.org/search/cell-line?q={query}\"\n",
    "        response = requests.get(url)\n",
    "\n",
    "        if response.status_code == 200:\n",
    "            # Parse JSON response\n",
    "            api_data = response.json()\n",
    "            # Extract synonyms\n",
    "            synonyms_data = extract_name_list_synonyms(api_data.get('Cellosaurus', {}), query)\n",
    "\n",
    "            for identifier, synonyms in synonyms_data.items():\n",
    "                # Combine identifier and synonyms into one list of query strings\n",
    "                query_strings = [identifier.lower()] + [synonym.lower() for synonym in synonyms]\n",
    "\n",
    "                # Match rows where cell_type contains any of the query strings (case-insensitively)\n",
    "                for _, row in samples_df.iterrows():\n",
    "                    if any(query_string in row['cell_type'].lower() for query_string in query_strings):\n",
    "                        matched_row = row.to_dict()\n",
    "                        matched_row['matched_identifier'] = identifier\n",
    "                        matched_rows.append(matched_row)\n",
    "        else:\n",
    "            print(f\"Failed to fetch data for {query}. HTTP Status Code: {response.status_code}\")\n",
    "\n",
    "    # Create a new DataFrame from the matched rows\n",
    "    return pd.DataFrame(matched_rows)\n"
   ]
  },
  {
   "cell_type": "code",
   "execution_count": 59,
   "metadata": {},
   "outputs": [
    {
     "name": "stdout",
     "output_type": "stream",
     "text": [
      "            cell_type        tissue matched_identifier\n",
      "0  Jurkat; Clone E6-1  bodily fluid             Jurkat\n"
     ]
    }
   ],
   "source": [
    "cell_lines = cell_lines[0:5]\n",
    "cell_lines.append('jurkat')\n",
    "\n",
    "# Example samples DataFrame\n",
    "samples_df = samples\n",
    "\n",
    "# Find matching rows\n",
    "matched_df = find_matching_rows(cell_lines, samples_df)\n",
    "\n",
    "# Display the output DataFrame\n",
    "print(matched_df)"
   ]
  },
  {
   "cell_type": "code",
   "execution_count": 26,
   "metadata": {},
   "outputs": [
    {
     "data": {
      "text/plain": [
       "'https://api.cellosaurus.org/search/cell-line?q=ko52'"
      ]
     },
     "execution_count": 26,
     "metadata": {},
     "output_type": "execute_result"
    }
   ],
   "source": [
    "url\n"
   ]
  },
  {
   "cell_type": "code",
   "execution_count": 31,
   "metadata": {},
   "outputs": [],
   "source": [
    "query = 'bob'\n",
    "url = \"https://api.cellosaurus.org/search/cell-line?q=\" + query"
   ]
  },
  {
   "cell_type": "code",
   "execution_count": 32,
   "metadata": {},
   "outputs": [
    {
     "data": {
      "text/plain": [
       "'https://api.cellosaurus.org/search/cell-line?q=bob'"
      ]
     },
     "execution_count": 32,
     "metadata": {},
     "output_type": "execute_result"
    }
   ],
   "source": [
    "url"
   ]
  },
  {
   "cell_type": "code",
   "execution_count": 54,
   "metadata": {},
   "outputs": [
    {
     "data": {
      "text/plain": [
       "['Kasumi-6', 'MOLM-6', 'KO52', 'MUTZ-3', 'GDM-1', 'JURKAT']"
      ]
     },
     "execution_count": 54,
     "metadata": {},
     "output_type": "execute_result"
    }
   ],
   "source": [
    "cell_lines"
   ]
  },
  {
   "cell_type": "code",
   "execution_count": null,
   "metadata": {},
   "outputs": [],
   "source": []
  }
 ],
 "metadata": {
  "kernelspec": {
   "display_name": "web_scraper",
   "language": "python",
   "name": "python3"
  },
  "language_info": {
   "codemirror_mode": {
    "name": "ipython",
    "version": 3
   },
   "file_extension": ".py",
   "mimetype": "text/x-python",
   "name": "python",
   "nbconvert_exporter": "python",
   "pygments_lexer": "ipython3",
   "version": "3.9.12"
  }
 },
 "nbformat": 4,
 "nbformat_minor": 2
}
